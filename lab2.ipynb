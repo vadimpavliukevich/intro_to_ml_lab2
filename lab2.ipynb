{
 "cells": [
  {
   "cell_type": "markdown",
   "source": [
    "# Задание \n",
    "1. Загрузить корпус текстовых данных с помощью DataFrame – бд Рубцовой (2 файла). ✅\n",
    "2. Каждый файл сократить до 5000 строк. Объиденить 2 файла в один DaraFrame. ✅\n",
    "3. Проверить пропущенные значения. Создать колонку с длиной текстов. Вычислить среднюю, медиану и моду.\n",
    "4. Выполнить визуальный анализ текстового корпуса Рубцовой. Построить минимум 5 графиков, минимум по 1 из каждой библиотеки. Выбрать один график и полностью описать атрибуты используемого метода. \n",
    "5. Предобработать тексты, используя ЛР1.\n",
    "6. Получить вектора признаков для каждого текста с помощью, BoW и TF-IDF.\n",
    "7. Сохранить полученные вектора в файле."
   ],
   "metadata": {
    "collapsed": false
   },
   "id": "ec8f7378b5a29c51"
  },
  {
   "cell_type": "markdown",
   "source": [
    "## Раздел 0: Импорты библиотек и исходных данных\n",
    "### 0.0 Импорты необходимых библиотек"
   ],
   "metadata": {
    "collapsed": false
   },
   "id": "47ea8e1da2d51594"
  },
  {
   "cell_type": "code",
   "execution_count": 1,
   "outputs": [
    {
     "name": "stderr",
     "output_type": "stream",
     "text": [
      "[nltk_data] Downloading package stopwords to /Users/vadim/nltk_data...\n",
      "[nltk_data]   Package stopwords is already up-to-date!\n"
     ]
    },
    {
     "data": {
      "text/plain": "True"
     },
     "execution_count": 1,
     "metadata": {},
     "output_type": "execute_result"
    }
   ],
   "source": [
    "import pandas as pd # импорт библиотеки для работы с DataFrame\n",
    "import statistics # импорт библиотеки для вычисления статистических показателей\n",
    "import re # импорт библиотеки для работы с регулярными выражениями\n",
    "import nltk # импорт библиотеки NLTK\n",
    "from nltk.tokenize import word_tokenize # импорт функции для токенизации \n",
    "# загрузка списков стоп слов \n",
    "nltk.download('stopwords')"
   ],
   "metadata": {
    "collapsed": false,
    "ExecuteTime": {
     "end_time": "2023-09-28T13:00:28.624394Z",
     "start_time": "2023-09-28T13:00:26.747139Z"
    }
   },
   "id": "5ec214f95f73edcb"
  },
  {
   "cell_type": "markdown",
   "source": [
    "### 0.1 Создаем таблицу для хранения данных в DataFrame"
   ],
   "metadata": {
    "collapsed": false
   },
   "id": "d0931260915b49b0"
  },
  {
   "cell_type": "code",
   "execution_count": 2,
   "outputs": [
    {
     "name": "stdout",
     "output_type": "stream",
     "text": [
      "(строки, колонки): (10000, 12)\n"
     ]
    },
    {
     "data": {
      "text/plain": "                      id       tdate            tname  \\\n0     408906692374446080  1386325927  pleease_shut_up   \n1     408906692693221377  1386325927  alinakirpicheva   \n2     408906695083954177  1386325927        EvgeshaRe   \n3     408906695356973056  1386325927    ikonnikova_21   \n4     408906761416867842  1386325943        JumpyAlex   \n...                  ...         ...              ...   \n9995  409766329734795264  1386530880    Anastasievnaa   \n9996  409766375364644864  1386530891      EmoKingSize   \n9997  409766474010886144  1386530915       yegorushki   \n9998  409766520009793536  1386530926          blond_4   \n9999  409766520425054208  1386530926        LSkorkina   \n\n                                                  ttext  ttype  trep  tfav  \\\n0     @first_timee хоть я и школота, но поверь, у на...      1     0     0   \n1     Да, все-таки он немного похож на него. Но мой ...      1     0     0   \n2     RT @KatiaCheh: Ну ты идиотка) я испугалась за ...      1     0     1   \n3     RT @digger2912: \"Кто то в углу сидит и погибае...      1     0     1   \n4     @irina_dyshkant Вот что значит страшилка :D\\nН...      1     0     0   \n...                                                 ...    ...   ...   ...   \n9995  Натааааш. у тебя было классное ДР =( и хрен у ...     -1     0     0   \n9996  ой(( я совсем забыла восстановить старый аккау...     -1     0     0   \n9997  Ну и где ночной твиттер? Все спят что ли? Так ...     -1     0     0   \n9998  Девочка моя,спасибо тебе за этот вечер .мне оч...     -1     0     0   \n9999   @DianaPalicina долго объяснять:((( все плохо,вот     -1     0     0   \n\n      tstcount   tfol  tfrien  listcount  unknown  \n0            0   7569      62         61        0  \n1            0  11825      59         31        2  \n2            0   1273      26         27        0  \n3            0   1549      19         17        0  \n4            0    597      16         23        1  \n...        ...    ...     ...        ...      ...  \n9995         0   2002      30         21        0  \n9996         0   5154      41         49        0  \n9997         0   1456      48         56        0  \n9998         0     99      14         14        0  \n9999         0    142      15         24        0  \n\n[10000 rows x 12 columns]",
      "text/html": "<div>\n<style scoped>\n    .dataframe tbody tr th:only-of-type {\n        vertical-align: middle;\n    }\n\n    .dataframe tbody tr th {\n        vertical-align: top;\n    }\n\n    .dataframe thead th {\n        text-align: right;\n    }\n</style>\n<table border=\"1\" class=\"dataframe\">\n  <thead>\n    <tr style=\"text-align: right;\">\n      <th></th>\n      <th>id</th>\n      <th>tdate</th>\n      <th>tname</th>\n      <th>ttext</th>\n      <th>ttype</th>\n      <th>trep</th>\n      <th>tfav</th>\n      <th>tstcount</th>\n      <th>tfol</th>\n      <th>tfrien</th>\n      <th>listcount</th>\n      <th>unknown</th>\n    </tr>\n  </thead>\n  <tbody>\n    <tr>\n      <th>0</th>\n      <td>408906692374446080</td>\n      <td>1386325927</td>\n      <td>pleease_shut_up</td>\n      <td>@first_timee хоть я и школота, но поверь, у на...</td>\n      <td>1</td>\n      <td>0</td>\n      <td>0</td>\n      <td>0</td>\n      <td>7569</td>\n      <td>62</td>\n      <td>61</td>\n      <td>0</td>\n    </tr>\n    <tr>\n      <th>1</th>\n      <td>408906692693221377</td>\n      <td>1386325927</td>\n      <td>alinakirpicheva</td>\n      <td>Да, все-таки он немного похож на него. Но мой ...</td>\n      <td>1</td>\n      <td>0</td>\n      <td>0</td>\n      <td>0</td>\n      <td>11825</td>\n      <td>59</td>\n      <td>31</td>\n      <td>2</td>\n    </tr>\n    <tr>\n      <th>2</th>\n      <td>408906695083954177</td>\n      <td>1386325927</td>\n      <td>EvgeshaRe</td>\n      <td>RT @KatiaCheh: Ну ты идиотка) я испугалась за ...</td>\n      <td>1</td>\n      <td>0</td>\n      <td>1</td>\n      <td>0</td>\n      <td>1273</td>\n      <td>26</td>\n      <td>27</td>\n      <td>0</td>\n    </tr>\n    <tr>\n      <th>3</th>\n      <td>408906695356973056</td>\n      <td>1386325927</td>\n      <td>ikonnikova_21</td>\n      <td>RT @digger2912: \"Кто то в углу сидит и погибае...</td>\n      <td>1</td>\n      <td>0</td>\n      <td>1</td>\n      <td>0</td>\n      <td>1549</td>\n      <td>19</td>\n      <td>17</td>\n      <td>0</td>\n    </tr>\n    <tr>\n      <th>4</th>\n      <td>408906761416867842</td>\n      <td>1386325943</td>\n      <td>JumpyAlex</td>\n      <td>@irina_dyshkant Вот что значит страшилка :D\\nН...</td>\n      <td>1</td>\n      <td>0</td>\n      <td>0</td>\n      <td>0</td>\n      <td>597</td>\n      <td>16</td>\n      <td>23</td>\n      <td>1</td>\n    </tr>\n    <tr>\n      <th>...</th>\n      <td>...</td>\n      <td>...</td>\n      <td>...</td>\n      <td>...</td>\n      <td>...</td>\n      <td>...</td>\n      <td>...</td>\n      <td>...</td>\n      <td>...</td>\n      <td>...</td>\n      <td>...</td>\n      <td>...</td>\n    </tr>\n    <tr>\n      <th>9995</th>\n      <td>409766329734795264</td>\n      <td>1386530880</td>\n      <td>Anastasievnaa</td>\n      <td>Натааааш. у тебя было классное ДР =( и хрен у ...</td>\n      <td>-1</td>\n      <td>0</td>\n      <td>0</td>\n      <td>0</td>\n      <td>2002</td>\n      <td>30</td>\n      <td>21</td>\n      <td>0</td>\n    </tr>\n    <tr>\n      <th>9996</th>\n      <td>409766375364644864</td>\n      <td>1386530891</td>\n      <td>EmoKingSize</td>\n      <td>ой(( я совсем забыла восстановить старый аккау...</td>\n      <td>-1</td>\n      <td>0</td>\n      <td>0</td>\n      <td>0</td>\n      <td>5154</td>\n      <td>41</td>\n      <td>49</td>\n      <td>0</td>\n    </tr>\n    <tr>\n      <th>9997</th>\n      <td>409766474010886144</td>\n      <td>1386530915</td>\n      <td>yegorushki</td>\n      <td>Ну и где ночной твиттер? Все спят что ли? Так ...</td>\n      <td>-1</td>\n      <td>0</td>\n      <td>0</td>\n      <td>0</td>\n      <td>1456</td>\n      <td>48</td>\n      <td>56</td>\n      <td>0</td>\n    </tr>\n    <tr>\n      <th>9998</th>\n      <td>409766520009793536</td>\n      <td>1386530926</td>\n      <td>blond_4</td>\n      <td>Девочка моя,спасибо тебе за этот вечер .мне оч...</td>\n      <td>-1</td>\n      <td>0</td>\n      <td>0</td>\n      <td>0</td>\n      <td>99</td>\n      <td>14</td>\n      <td>14</td>\n      <td>0</td>\n    </tr>\n    <tr>\n      <th>9999</th>\n      <td>409766520425054208</td>\n      <td>1386530926</td>\n      <td>LSkorkina</td>\n      <td>@DianaPalicina долго объяснять:((( все плохо,вот</td>\n      <td>-1</td>\n      <td>0</td>\n      <td>0</td>\n      <td>0</td>\n      <td>142</td>\n      <td>15</td>\n      <td>24</td>\n      <td>0</td>\n    </tr>\n  </tbody>\n</table>\n<p>10000 rows × 12 columns</p>\n</div>"
     },
     "execution_count": 2,
     "metadata": {},
     "output_type": "execute_result"
    }
   ],
   "source": [
    "columns = [\n",
    "    \"id\", \"tdate\", \"tname\", \"ttext\", \"ttype\", \n",
    "    \"trep\", \"tfav\", \"tstcount\", \"tfol\", \n",
    "    \"tfrien\", \"listcount\", \"unknown\"\n",
    "]\n",
    "\n",
    "positive_df = pd.read_csv(\"positive.csv\", delimiter=\";\", names=columns, nrows=5000)\n",
    "negative_df = pd.read_csv(\"negative.csv\", delimiter=\";\", names=columns, nrows=5000)\n",
    "\n",
    "df = pd.concat([positive_df, negative_df]).reset_index(drop=True)\n",
    "\n",
    "print(f\"(строки, колонки): {df.shape}\")\n",
    "df"
   ],
   "metadata": {
    "collapsed": false,
    "ExecuteTime": {
     "end_time": "2023-09-28T13:00:28.673201Z",
     "start_time": "2023-09-28T13:00:28.626186Z"
    }
   },
   "id": "67bc341b3245f728"
  },
  {
   "cell_type": "markdown",
   "source": [
    "## Раздел 1: Анализ данных\n",
    "### 1.0 Создание колонки с длинной текстов"
   ],
   "metadata": {
    "collapsed": false
   },
   "id": "a9139a3851f3fe0e"
  },
  {
   "cell_type": "code",
   "execution_count": 3,
   "outputs": [
    {
     "data": {
      "text/plain": "                      id       tdate            tname  \\\n0     408906692374446080  1386325927  pleease_shut_up   \n1     408906692693221377  1386325927  alinakirpicheva   \n2     408906695083954177  1386325927        EvgeshaRe   \n3     408906695356973056  1386325927    ikonnikova_21   \n4     408906761416867842  1386325943        JumpyAlex   \n...                  ...         ...              ...   \n9995  409766329734795264  1386530880    Anastasievnaa   \n9996  409766375364644864  1386530891      EmoKingSize   \n9997  409766474010886144  1386530915       yegorushki   \n9998  409766520009793536  1386530926          blond_4   \n9999  409766520425054208  1386530926        LSkorkina   \n\n                                                  ttext  ttype  trep  tfav  \\\n0     @first_timee хоть я и школота, но поверь, у на...      1     0     0   \n1     Да, все-таки он немного похож на него. Но мой ...      1     0     0   \n2     RT @KatiaCheh: Ну ты идиотка) я испугалась за ...      1     0     1   \n3     RT @digger2912: \"Кто то в углу сидит и погибае...      1     0     1   \n4     @irina_dyshkant Вот что значит страшилка :D\\nН...      1     0     0   \n...                                                 ...    ...   ...   ...   \n9995  Натааааш. у тебя было классное ДР =( и хрен у ...     -1     0     0   \n9996  ой(( я совсем забыла восстановить старый аккау...     -1     0     0   \n9997  Ну и где ночной твиттер? Все спят что ли? Так ...     -1     0     0   \n9998  Девочка моя,спасибо тебе за этот вечер .мне оч...     -1     0     0   \n9999   @DianaPalicina долго объяснять:((( все плохо,вот     -1     0     0   \n\n      tstcount   tfol  tfrien  listcount  unknown  tlength  \n0            0   7569      62         61        0       22  \n1            0  11825      59         31        2       17  \n2            0   1273      26         27        0       15  \n3            0   1549      19         17        0       35  \n4            0    597      16         23        1       26  \n...        ...    ...     ...        ...      ...      ...  \n9995         0   2002      30         21        0       16  \n9996         0   5154      41         49        0       23  \n9997         0   1456      48         56        0       27  \n9998         0     99      14         14        0       18  \n9999         0    142      15         24        0       12  \n\n[10000 rows x 13 columns]",
      "text/html": "<div>\n<style scoped>\n    .dataframe tbody tr th:only-of-type {\n        vertical-align: middle;\n    }\n\n    .dataframe tbody tr th {\n        vertical-align: top;\n    }\n\n    .dataframe thead th {\n        text-align: right;\n    }\n</style>\n<table border=\"1\" class=\"dataframe\">\n  <thead>\n    <tr style=\"text-align: right;\">\n      <th></th>\n      <th>id</th>\n      <th>tdate</th>\n      <th>tname</th>\n      <th>ttext</th>\n      <th>ttype</th>\n      <th>trep</th>\n      <th>tfav</th>\n      <th>tstcount</th>\n      <th>tfol</th>\n      <th>tfrien</th>\n      <th>listcount</th>\n      <th>unknown</th>\n      <th>tlength</th>\n    </tr>\n  </thead>\n  <tbody>\n    <tr>\n      <th>0</th>\n      <td>408906692374446080</td>\n      <td>1386325927</td>\n      <td>pleease_shut_up</td>\n      <td>@first_timee хоть я и школота, но поверь, у на...</td>\n      <td>1</td>\n      <td>0</td>\n      <td>0</td>\n      <td>0</td>\n      <td>7569</td>\n      <td>62</td>\n      <td>61</td>\n      <td>0</td>\n      <td>22</td>\n    </tr>\n    <tr>\n      <th>1</th>\n      <td>408906692693221377</td>\n      <td>1386325927</td>\n      <td>alinakirpicheva</td>\n      <td>Да, все-таки он немного похож на него. Но мой ...</td>\n      <td>1</td>\n      <td>0</td>\n      <td>0</td>\n      <td>0</td>\n      <td>11825</td>\n      <td>59</td>\n      <td>31</td>\n      <td>2</td>\n      <td>17</td>\n    </tr>\n    <tr>\n      <th>2</th>\n      <td>408906695083954177</td>\n      <td>1386325927</td>\n      <td>EvgeshaRe</td>\n      <td>RT @KatiaCheh: Ну ты идиотка) я испугалась за ...</td>\n      <td>1</td>\n      <td>0</td>\n      <td>1</td>\n      <td>0</td>\n      <td>1273</td>\n      <td>26</td>\n      <td>27</td>\n      <td>0</td>\n      <td>15</td>\n    </tr>\n    <tr>\n      <th>3</th>\n      <td>408906695356973056</td>\n      <td>1386325927</td>\n      <td>ikonnikova_21</td>\n      <td>RT @digger2912: \"Кто то в углу сидит и погибае...</td>\n      <td>1</td>\n      <td>0</td>\n      <td>1</td>\n      <td>0</td>\n      <td>1549</td>\n      <td>19</td>\n      <td>17</td>\n      <td>0</td>\n      <td>35</td>\n    </tr>\n    <tr>\n      <th>4</th>\n      <td>408906761416867842</td>\n      <td>1386325943</td>\n      <td>JumpyAlex</td>\n      <td>@irina_dyshkant Вот что значит страшилка :D\\nН...</td>\n      <td>1</td>\n      <td>0</td>\n      <td>0</td>\n      <td>0</td>\n      <td>597</td>\n      <td>16</td>\n      <td>23</td>\n      <td>1</td>\n      <td>26</td>\n    </tr>\n    <tr>\n      <th>...</th>\n      <td>...</td>\n      <td>...</td>\n      <td>...</td>\n      <td>...</td>\n      <td>...</td>\n      <td>...</td>\n      <td>...</td>\n      <td>...</td>\n      <td>...</td>\n      <td>...</td>\n      <td>...</td>\n      <td>...</td>\n      <td>...</td>\n    </tr>\n    <tr>\n      <th>9995</th>\n      <td>409766329734795264</td>\n      <td>1386530880</td>\n      <td>Anastasievnaa</td>\n      <td>Натааааш. у тебя было классное ДР =( и хрен у ...</td>\n      <td>-1</td>\n      <td>0</td>\n      <td>0</td>\n      <td>0</td>\n      <td>2002</td>\n      <td>30</td>\n      <td>21</td>\n      <td>0</td>\n      <td>16</td>\n    </tr>\n    <tr>\n      <th>9996</th>\n      <td>409766375364644864</td>\n      <td>1386530891</td>\n      <td>EmoKingSize</td>\n      <td>ой(( я совсем забыла восстановить старый аккау...</td>\n      <td>-1</td>\n      <td>0</td>\n      <td>0</td>\n      <td>0</td>\n      <td>5154</td>\n      <td>41</td>\n      <td>49</td>\n      <td>0</td>\n      <td>23</td>\n    </tr>\n    <tr>\n      <th>9997</th>\n      <td>409766474010886144</td>\n      <td>1386530915</td>\n      <td>yegorushki</td>\n      <td>Ну и где ночной твиттер? Все спят что ли? Так ...</td>\n      <td>-1</td>\n      <td>0</td>\n      <td>0</td>\n      <td>0</td>\n      <td>1456</td>\n      <td>48</td>\n      <td>56</td>\n      <td>0</td>\n      <td>27</td>\n    </tr>\n    <tr>\n      <th>9998</th>\n      <td>409766520009793536</td>\n      <td>1386530926</td>\n      <td>blond_4</td>\n      <td>Девочка моя,спасибо тебе за этот вечер .мне оч...</td>\n      <td>-1</td>\n      <td>0</td>\n      <td>0</td>\n      <td>0</td>\n      <td>99</td>\n      <td>14</td>\n      <td>14</td>\n      <td>0</td>\n      <td>18</td>\n    </tr>\n    <tr>\n      <th>9999</th>\n      <td>409766520425054208</td>\n      <td>1386530926</td>\n      <td>LSkorkina</td>\n      <td>@DianaPalicina долго объяснять:((( все плохо,вот</td>\n      <td>-1</td>\n      <td>0</td>\n      <td>0</td>\n      <td>0</td>\n      <td>142</td>\n      <td>15</td>\n      <td>24</td>\n      <td>0</td>\n      <td>12</td>\n    </tr>\n  </tbody>\n</table>\n<p>10000 rows × 13 columns</p>\n</div>"
     },
     "execution_count": 3,
     "metadata": {},
     "output_type": "execute_result"
    }
   ],
   "source": [
    "# Создаем колонку с длинной текстов с помощью токенизации каждого ряда\n",
    "df['tlength'] = df['ttext'].apply(lambda x: len(word_tokenize(str(x))))\n",
    "df"
   ],
   "metadata": {
    "collapsed": false,
    "ExecuteTime": {
     "end_time": "2023-09-28T13:00:29.187909Z",
     "start_time": "2023-09-28T13:00:28.674002Z"
    }
   },
   "id": "2de24c75f7e235e0"
  },
  {
   "cell_type": "markdown",
   "source": [
    "### 1.1 Проверка на пропущенные значения - ПРОВЕРИТЬ!!!"
   ],
   "metadata": {
    "collapsed": false
   },
   "id": "cccb423504cb9c03"
  },
  {
   "cell_type": "code",
   "execution_count": 4,
   "outputs": [
    {
     "data": {
      "text/plain": "id           0\ntdate        0\ntname        0\nttext        0\nttype        0\ntrep         0\ntfav         0\ntstcount     0\ntfol         0\ntfrien       0\nlistcount    0\nunknown      0\ntlength      0\ndtype: int64"
     },
     "execution_count": 4,
     "metadata": {},
     "output_type": "execute_result"
    }
   ],
   "source": [
    "# Суммируем все пропущенные значения в каждой колонке\n",
    "df.isnull().sum()"
   ],
   "metadata": {
    "collapsed": false,
    "ExecuteTime": {
     "end_time": "2023-09-28T13:00:29.188084Z",
     "start_time": "2023-09-28T13:00:29.176481Z"
    }
   },
   "id": "9b01cdf0faaf28d8"
  },
  {
   "cell_type": "markdown",
   "source": [
    "### 1.2 Вычисление средней, медианы и моды"
   ],
   "metadata": {
    "collapsed": false
   },
   "id": "ee6186483ef55dd"
  },
  {
   "cell_type": "code",
   "execution_count": 5,
   "outputs": [
    {
     "name": "stdout",
     "output_type": "stream",
     "text": [
      "Средняя длина текстов: 17.6985\n",
      "Медиана длины текстов: 16.0\n",
      "Мода длины текстов: 13\n"
     ]
    }
   ],
   "source": [
    "# Выводим среднее, медиану и моду длин текстов с помощью библеотеки statistics\n",
    "print(f'Средняя длина текстов: {statistics.mean(df[\"tlength\"])}\\n'\n",
    "      f'Медиана длины текстов: {statistics.median(df[\"tlength\"])}\\n'\n",
    "      f'Мода длины текстов: {statistics.mode(df[\"tlength\"])}')"
   ],
   "metadata": {
    "collapsed": false,
    "ExecuteTime": {
     "end_time": "2023-09-28T13:00:29.188152Z",
     "start_time": "2023-09-28T13:00:29.182804Z"
    }
   },
   "id": "c342a2ec849ba463"
  },
  {
   "cell_type": "markdown",
   "source": [
    "## Раздел 2: Визуальный анализ текстового корпуса Рубцовой\n",
    "### 2.0 Построение графика"
   ],
   "metadata": {
    "collapsed": false
   },
   "id": "a5d481495791e6fe"
  },
  {
   "cell_type": "code",
   "execution_count": 5,
   "outputs": [],
   "source": [],
   "metadata": {
    "collapsed": false,
    "ExecuteTime": {
     "end_time": "2023-09-28T13:00:29.188179Z",
     "start_time": "2023-09-28T13:00:29.184416Z"
    }
   },
   "id": "2a2d6bffc7c906ee"
  },
  {
   "cell_type": "markdown",
   "source": [
    "## Раздел 3: Предобработка текстов\n",
    "### 3.0 Приведение к нижнему регистру, токенизация и леминизация"
   ],
   "metadata": {
    "collapsed": false
   },
   "id": "ad3521b9eca7561f"
  },
  {
   "cell_type": "code",
   "execution_count": 6,
   "outputs": [
    {
     "data": {
      "text/plain": "                      id       tdate            tname  \\\n0     408906692374446080  1386325927  pleease_shut_up   \n1     408906692693221377  1386325927  alinakirpicheva   \n2     408906695083954177  1386325927        EvgeshaRe   \n3     408906695356973056  1386325927    ikonnikova_21   \n4     408906761416867842  1386325943        JumpyAlex   \n...                  ...         ...              ...   \n9995  409766329734795264  1386530880    Anastasievnaa   \n9996  409766375364644864  1386530891      EmoKingSize   \n9997  409766474010886144  1386530915       yegorushki   \n9998  409766520009793536  1386530926          blond_4   \n9999  409766520425054208  1386530926        LSkorkina   \n\n                                                  ttext  ttype  trep  tfav  \\\n0     [школота, поверь, самое, общество, профилирующ...      1     0     0   \n1            [все-таки, немного, похож, мальчик, равно]      1     0     0   \n2                                 [идиотка, испугалась]      1     0     1   \n3     [углу, сидит, погибает, голода, ещё, порции, в...      1     0     1   \n4     [значит, страшилка, блин, посмотрев, части, со...      1     0     0   \n...                                                 ...    ...   ...   ...   \n9995              [натааааш, классное, др, хрен, такое]     -1     0     0   \n9996  [ой, забыла, восстановить, старый, аккаунт, на...     -1     0     0   \n9997  [ночной, твиттер, спят, люблю, почитать, ночь,...     -1     0     0   \n9998  [девочка, спасибо, тебе, вечер, очень, хватает...     -1     0     0   \n9999                          [долго, объяснять, плохо]     -1     0     0   \n\n      tstcount   tfol  tfrien  listcount  unknown  tlength  \n0            0   7569      62         61        0       22  \n1            0  11825      59         31        2       17  \n2            0   1273      26         27        0       15  \n3            0   1549      19         17        0       35  \n4            0    597      16         23        1       26  \n...        ...    ...     ...        ...      ...      ...  \n9995         0   2002      30         21        0       16  \n9996         0   5154      41         49        0       23  \n9997         0   1456      48         56        0       27  \n9998         0     99      14         14        0       18  \n9999         0    142      15         24        0       12  \n\n[10000 rows x 13 columns]",
      "text/html": "<div>\n<style scoped>\n    .dataframe tbody tr th:only-of-type {\n        vertical-align: middle;\n    }\n\n    .dataframe tbody tr th {\n        vertical-align: top;\n    }\n\n    .dataframe thead th {\n        text-align: right;\n    }\n</style>\n<table border=\"1\" class=\"dataframe\">\n  <thead>\n    <tr style=\"text-align: right;\">\n      <th></th>\n      <th>id</th>\n      <th>tdate</th>\n      <th>tname</th>\n      <th>ttext</th>\n      <th>ttype</th>\n      <th>trep</th>\n      <th>tfav</th>\n      <th>tstcount</th>\n      <th>tfol</th>\n      <th>tfrien</th>\n      <th>listcount</th>\n      <th>unknown</th>\n      <th>tlength</th>\n    </tr>\n  </thead>\n  <tbody>\n    <tr>\n      <th>0</th>\n      <td>408906692374446080</td>\n      <td>1386325927</td>\n      <td>pleease_shut_up</td>\n      <td>[школота, поверь, самое, общество, профилирующ...</td>\n      <td>1</td>\n      <td>0</td>\n      <td>0</td>\n      <td>0</td>\n      <td>7569</td>\n      <td>62</td>\n      <td>61</td>\n      <td>0</td>\n      <td>22</td>\n    </tr>\n    <tr>\n      <th>1</th>\n      <td>408906692693221377</td>\n      <td>1386325927</td>\n      <td>alinakirpicheva</td>\n      <td>[все-таки, немного, похож, мальчик, равно]</td>\n      <td>1</td>\n      <td>0</td>\n      <td>0</td>\n      <td>0</td>\n      <td>11825</td>\n      <td>59</td>\n      <td>31</td>\n      <td>2</td>\n      <td>17</td>\n    </tr>\n    <tr>\n      <th>2</th>\n      <td>408906695083954177</td>\n      <td>1386325927</td>\n      <td>EvgeshaRe</td>\n      <td>[идиотка, испугалась]</td>\n      <td>1</td>\n      <td>0</td>\n      <td>1</td>\n      <td>0</td>\n      <td>1273</td>\n      <td>26</td>\n      <td>27</td>\n      <td>0</td>\n      <td>15</td>\n    </tr>\n    <tr>\n      <th>3</th>\n      <td>408906695356973056</td>\n      <td>1386325927</td>\n      <td>ikonnikova_21</td>\n      <td>[углу, сидит, погибает, голода, ещё, порции, в...</td>\n      <td>1</td>\n      <td>0</td>\n      <td>1</td>\n      <td>0</td>\n      <td>1549</td>\n      <td>19</td>\n      <td>17</td>\n      <td>0</td>\n      <td>35</td>\n    </tr>\n    <tr>\n      <th>4</th>\n      <td>408906761416867842</td>\n      <td>1386325943</td>\n      <td>JumpyAlex</td>\n      <td>[значит, страшилка, блин, посмотрев, части, со...</td>\n      <td>1</td>\n      <td>0</td>\n      <td>0</td>\n      <td>0</td>\n      <td>597</td>\n      <td>16</td>\n      <td>23</td>\n      <td>1</td>\n      <td>26</td>\n    </tr>\n    <tr>\n      <th>...</th>\n      <td>...</td>\n      <td>...</td>\n      <td>...</td>\n      <td>...</td>\n      <td>...</td>\n      <td>...</td>\n      <td>...</td>\n      <td>...</td>\n      <td>...</td>\n      <td>...</td>\n      <td>...</td>\n      <td>...</td>\n      <td>...</td>\n    </tr>\n    <tr>\n      <th>9995</th>\n      <td>409766329734795264</td>\n      <td>1386530880</td>\n      <td>Anastasievnaa</td>\n      <td>[натааааш, классное, др, хрен, такое]</td>\n      <td>-1</td>\n      <td>0</td>\n      <td>0</td>\n      <td>0</td>\n      <td>2002</td>\n      <td>30</td>\n      <td>21</td>\n      <td>0</td>\n      <td>16</td>\n    </tr>\n    <tr>\n      <th>9996</th>\n      <td>409766375364644864</td>\n      <td>1386530891</td>\n      <td>EmoKingSize</td>\n      <td>[ой, забыла, восстановить, старый, аккаунт, на...</td>\n      <td>-1</td>\n      <td>0</td>\n      <td>0</td>\n      <td>0</td>\n      <td>5154</td>\n      <td>41</td>\n      <td>49</td>\n      <td>0</td>\n      <td>23</td>\n    </tr>\n    <tr>\n      <th>9997</th>\n      <td>409766474010886144</td>\n      <td>1386530915</td>\n      <td>yegorushki</td>\n      <td>[ночной, твиттер, спят, люблю, почитать, ночь,...</td>\n      <td>-1</td>\n      <td>0</td>\n      <td>0</td>\n      <td>0</td>\n      <td>1456</td>\n      <td>48</td>\n      <td>56</td>\n      <td>0</td>\n      <td>27</td>\n    </tr>\n    <tr>\n      <th>9998</th>\n      <td>409766520009793536</td>\n      <td>1386530926</td>\n      <td>blond_4</td>\n      <td>[девочка, спасибо, тебе, вечер, очень, хватает...</td>\n      <td>-1</td>\n      <td>0</td>\n      <td>0</td>\n      <td>0</td>\n      <td>99</td>\n      <td>14</td>\n      <td>14</td>\n      <td>0</td>\n      <td>18</td>\n    </tr>\n    <tr>\n      <th>9999</th>\n      <td>409766520425054208</td>\n      <td>1386530926</td>\n      <td>LSkorkina</td>\n      <td>[долго, объяснять, плохо]</td>\n      <td>-1</td>\n      <td>0</td>\n      <td>0</td>\n      <td>0</td>\n      <td>142</td>\n      <td>15</td>\n      <td>24</td>\n      <td>0</td>\n      <td>12</td>\n    </tr>\n  </tbody>\n</table>\n<p>10000 rows × 13 columns</p>\n</div>"
     },
     "execution_count": 6,
     "metadata": {},
     "output_type": "execute_result"
    }
   ],
   "source": [
    "# Приводим все тексты к нижнему регистру  \n",
    "df['ttext'] = df['ttext'].str.lower()\n",
    "# Удаляем символы, английские слова и стоп-слова и осуществляем токенизацию\n",
    "stopwords= nltk.corpus.stopwords.words('russian')\n",
    "df['ttext'] = df['ttext'].apply(lambda x: [word for word in word_tokenize(str(x)) if re.match(r'[а-я]', word) and word not in stopwords])\n",
    "morph = pymorphy2.MorphAnalyzer()\n",
    "df"
   ],
   "metadata": {
    "collapsed": false,
    "ExecuteTime": {
     "end_time": "2023-09-28T13:00:29.806088Z",
     "start_time": "2023-09-28T13:00:29.190636Z"
    }
   },
   "id": "abebdcf00e7f5ec5"
  },
  {
   "cell_type": "markdown",
   "source": [
    "### 3.0 Токенизация"
   ],
   "metadata": {
    "collapsed": false
   },
   "id": "4ea60bb516d0a48c"
  },
  {
   "cell_type": "code",
   "execution_count": 6,
   "outputs": [],
   "source": [],
   "metadata": {
    "collapsed": false,
    "ExecuteTime": {
     "end_time": "2023-09-28T13:00:29.806198Z",
     "start_time": "2023-09-28T13:00:29.797516Z"
    }
   },
   "id": "304181fa6ad3da50"
  },
  {
   "cell_type": "code",
   "execution_count": 6,
   "outputs": [],
   "source": [],
   "metadata": {
    "collapsed": false,
    "ExecuteTime": {
     "end_time": "2023-09-28T13:00:29.806231Z",
     "start_time": "2023-09-28T13:00:29.799093Z"
    }
   },
   "id": "8400bfee27e2491d"
  }
 ],
 "metadata": {
  "kernelspec": {
   "display_name": "Python 3",
   "language": "python",
   "name": "python3"
  },
  "language_info": {
   "codemirror_mode": {
    "name": "ipython",
    "version": 2
   },
   "file_extension": ".py",
   "mimetype": "text/x-python",
   "name": "python",
   "nbconvert_exporter": "python",
   "pygments_lexer": "ipython2",
   "version": "2.7.6"
  }
 },
 "nbformat": 4,
 "nbformat_minor": 5
}
