{
 "cells": [
  {
   "cell_type": "markdown",
   "source": [
    "# Задание \n",
    "1. Загрузить корпус текстовых данных с помощью DataFrame – бд Рубцовой (2 файла). ✅\n",
    "2. Каждый файл сократить до 5000 строк. Объиденить 2 файла в один DaraFrame. ✅\n",
    "3. Проверить пропущенные значения. Создать колонку с длиной текстов. Вычислить среднюю, медиану и моду.\n",
    "4. Выполнить визуальный анализ текстового корпуса Рубцовой. Построить минимум 5 графиков, минимум по 1 из каждой библиотеки. Выбрать один график и полностью описать атрибуты используемого метода. \n",
    "5. Предобработать тексты, используя ЛР1.\n",
    "6. Получить вектора признаков для каждого текста с помощью, BoW и TF-IDF.\n",
    "7. Сохранить полученные вектора в файле."
   ],
   "metadata": {
    "collapsed": false
   },
   "id": "ec8f7378b5a29c51"
  },
  {
   "cell_type": "markdown",
   "source": [
    "## Раздел 0: Импорты библиотек и исходных данных\n",
    "### 0.0 Импорты необходимых библиотек"
   ],
   "metadata": {
    "collapsed": false
   },
   "id": "47ea8e1da2d51594"
  },
  {
   "cell_type": "code",
   "execution_count": 1,
   "outputs": [],
   "source": [
    "import pandas as pd"
   ],
   "metadata": {
    "collapsed": false,
    "ExecuteTime": {
     "end_time": "2023-09-28T10:30:29.224671Z",
     "start_time": "2023-09-28T10:30:29.223143Z"
    }
   },
   "id": "5ec214f95f73edcb"
  },
  {
   "cell_type": "markdown",
   "source": [
    "### 0.1 Создаем таблицу для хранения данных в DataFrame"
   ],
   "metadata": {
    "collapsed": false
   },
   "id": "d0931260915b49b0"
  },
  {
   "cell_type": "code",
   "execution_count": 2,
   "outputs": [
    {
     "name": "stdout",
     "output_type": "stream",
     "text": [
      "Размер DataFrame (строки, столбцы): (10000, 11)\n"
     ]
    },
    {
     "data": {
      "text/plain": "                            id            tdate  \\\n408906692374446080  1386325927  pleease_shut_up   \n408906692693221377  1386325927  alinakirpicheva   \n408906695083954177  1386325927        EvgeshaRe   \n408906695356973056  1386325927    ikonnikova_21   \n408906761416867842  1386325943        JumpyAlex   \n\n                                                                tname  ttext  \\\n408906692374446080  @first_timee хоть я и школота, но поверь, у на...      1   \n408906692693221377  Да, все-таки он немного похож на него. Но мой ...      1   \n408906695083954177  RT @KatiaCheh: Ну ты идиотка) я испугалась за ...      1   \n408906695356973056  RT @digger2912: \"Кто то в углу сидит и погибае...      1   \n408906761416867842  @irina_dyshkant Вот что значит страшилка :D\\nН...      1   \n\n                    ttype  trep  tfav  tstcount  tfol  tfrien  listcount  \n408906692374446080      0     0     0      7569    62      61          0  \n408906692693221377      0     0     0     11825    59      31          2  \n408906695083954177      0     1     0      1273    26      27          0  \n408906695356973056      0     1     0      1549    19      17          0  \n408906761416867842      0     0     0       597    16      23          1  ",
      "text/html": "<div>\n<style scoped>\n    .dataframe tbody tr th:only-of-type {\n        vertical-align: middle;\n    }\n\n    .dataframe tbody tr th {\n        vertical-align: top;\n    }\n\n    .dataframe thead th {\n        text-align: right;\n    }\n</style>\n<table border=\"1\" class=\"dataframe\">\n  <thead>\n    <tr style=\"text-align: right;\">\n      <th></th>\n      <th>id</th>\n      <th>tdate</th>\n      <th>tname</th>\n      <th>ttext</th>\n      <th>ttype</th>\n      <th>trep</th>\n      <th>tfav</th>\n      <th>tstcount</th>\n      <th>tfol</th>\n      <th>tfrien</th>\n      <th>listcount</th>\n    </tr>\n  </thead>\n  <tbody>\n    <tr>\n      <th>408906692374446080</th>\n      <td>1386325927</td>\n      <td>pleease_shut_up</td>\n      <td>@first_timee хоть я и школота, но поверь, у на...</td>\n      <td>1</td>\n      <td>0</td>\n      <td>0</td>\n      <td>0</td>\n      <td>7569</td>\n      <td>62</td>\n      <td>61</td>\n      <td>0</td>\n    </tr>\n    <tr>\n      <th>408906692693221377</th>\n      <td>1386325927</td>\n      <td>alinakirpicheva</td>\n      <td>Да, все-таки он немного похож на него. Но мой ...</td>\n      <td>1</td>\n      <td>0</td>\n      <td>0</td>\n      <td>0</td>\n      <td>11825</td>\n      <td>59</td>\n      <td>31</td>\n      <td>2</td>\n    </tr>\n    <tr>\n      <th>408906695083954177</th>\n      <td>1386325927</td>\n      <td>EvgeshaRe</td>\n      <td>RT @KatiaCheh: Ну ты идиотка) я испугалась за ...</td>\n      <td>1</td>\n      <td>0</td>\n      <td>1</td>\n      <td>0</td>\n      <td>1273</td>\n      <td>26</td>\n      <td>27</td>\n      <td>0</td>\n    </tr>\n    <tr>\n      <th>408906695356973056</th>\n      <td>1386325927</td>\n      <td>ikonnikova_21</td>\n      <td>RT @digger2912: \"Кто то в углу сидит и погибае...</td>\n      <td>1</td>\n      <td>0</td>\n      <td>1</td>\n      <td>0</td>\n      <td>1549</td>\n      <td>19</td>\n      <td>17</td>\n      <td>0</td>\n    </tr>\n    <tr>\n      <th>408906761416867842</th>\n      <td>1386325943</td>\n      <td>JumpyAlex</td>\n      <td>@irina_dyshkant Вот что значит страшилка :D\\nН...</td>\n      <td>1</td>\n      <td>0</td>\n      <td>0</td>\n      <td>0</td>\n      <td>597</td>\n      <td>16</td>\n      <td>23</td>\n      <td>1</td>\n    </tr>\n  </tbody>\n</table>\n</div>"
     },
     "execution_count": 2,
     "metadata": {},
     "output_type": "execute_result"
    }
   ],
   "source": [
    "# Specify the column names\n",
    "columns = [\n",
    "    \"id\", \"tdate\", \"tname\", \"ttext\", \"ttype\", \n",
    "    \"trep\", \"tfav\", \"tstcount\", \"tfol\", \n",
    "    \"tfrien\", \"listcount\"\n",
    "]\n",
    "\n",
    "positive_df = pd.read_csv(\"positive.csv\", delimiter=\";\", names=columns, nrows=5000)\n",
    "negative_df = pd.read_csv(\"negative.csv\", delimiter=\";\", names=columns, nrows=5000)\n",
    "\n",
    "combined_df = pd.concat([positive_df, negative_df], axis=0)\n",
    "print(f\"Размер DataFrame (строки, столбцы): {combined_df.shape}\")\n",
    "combined_df.head()"
   ],
   "metadata": {
    "collapsed": false,
    "ExecuteTime": {
     "end_time": "2023-09-28T10:30:29.259576Z",
     "start_time": "2023-09-28T10:30:29.225615Z"
    }
   },
   "id": "67bc341b3245f728"
  },
  {
   "cell_type": "code",
   "execution_count": 2,
   "outputs": [],
   "source": [],
   "metadata": {
    "collapsed": false,
    "ExecuteTime": {
     "end_time": "2023-09-28T10:30:29.266434Z",
     "start_time": "2023-09-28T10:30:29.260451Z"
    }
   },
   "id": "8078fffb2cad87d2"
  }
 ],
 "metadata": {
  "kernelspec": {
   "display_name": "Python 3",
   "language": "python",
   "name": "python3"
  },
  "language_info": {
   "codemirror_mode": {
    "name": "ipython",
    "version": 2
   },
   "file_extension": ".py",
   "mimetype": "text/x-python",
   "name": "python",
   "nbconvert_exporter": "python",
   "pygments_lexer": "ipython2",
   "version": "2.7.6"
  }
 },
 "nbformat": 4,
 "nbformat_minor": 5
}
