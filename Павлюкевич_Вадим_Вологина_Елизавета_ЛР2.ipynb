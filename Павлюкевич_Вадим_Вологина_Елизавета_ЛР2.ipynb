{
 "cells": [
  {
   "cell_type": "markdown",
   "id": "47ea8e1da2d51594",
   "metadata": {},
   "source": [
    "## Раздел 0: Импорты библиотек и исходных данных\n",
    "### 0.0 Импорты необходимых библиотек"
   ]
  },
  {
   "cell_type": "code",
   "execution_count": 1,
   "id": "5ec214f95f73edcb",
   "metadata": {
    "ExecuteTime": {
     "end_time": "2023-09-29T08:17:34.811924Z",
     "start_time": "2023-09-29T08:17:33.574870Z"
    }
   },
   "outputs": [
    {
     "name": "stderr",
     "output_type": "stream",
     "text": [
      "[nltk_data] Downloading package stopwords to /Users/vadim/nltk_data...\n",
      "[nltk_data]   Package stopwords is already up-to-date!\n"
     ]
    },
    {
     "data": {
      "text/plain": [
       "True"
      ]
     },
     "execution_count": 1,
     "metadata": {},
     "output_type": "execute_result"
    }
   ],
   "source": [
    "import pandas as pd # импорт библиотеки для работы с DataFrame\n",
    "import statistics # импорт библиотеки для вычисления статистических показателей\n",
    "import re # импорт библиотеки для работы с регулярными выражениями\n",
    "# импорт библиотек для построения графиков\n",
    "import matplotlib.pyplot as plt\n",
    "import seaborn as sns\n",
    "import plotly.express as px\n",
    "from pymystem3 import Mystem # импорт библиотеки для лемматизации\n",
    "from sklearn.feature_extraction.text import CountVectorizer, TfidfVectorizer # импорт библиотеки для получения векторов признаков\n",
    "import nltk # импорт библиотеки NLTK\n",
    "from nltk.tokenize import word_tokenize # импорт функции для токенизации \n",
    "# загрузка списков стоп слов \n",
    "nltk.download('stopwords')"
   ]
  },
  {
   "cell_type": "markdown",
   "id": "d0931260915b49b0",
   "metadata": {},
   "source": [
    "### 0.1 Создаем таблицу для хранения данных в DataFrame"
   ]
  },
  {
   "cell_type": "code",
   "execution_count": 2,
   "id": "67bc341b3245f728",
   "metadata": {
    "ExecuteTime": {
     "end_time": "2023-09-29T08:17:34.881600Z",
     "start_time": "2023-09-29T08:17:34.812193Z"
    }
   },
   "outputs": [
    {
     "name": "stdout",
     "output_type": "stream",
     "text": [
      "(строки, колонки): (10000, 12)\n"
     ]
    },
    {
     "data": {
      "text/html": [
       "<div>\n",
       "<style scoped>\n",
       "    .dataframe tbody tr th:only-of-type {\n",
       "        vertical-align: middle;\n",
       "    }\n",
       "\n",
       "    .dataframe tbody tr th {\n",
       "        vertical-align: top;\n",
       "    }\n",
       "\n",
       "    .dataframe thead th {\n",
       "        text-align: right;\n",
       "    }\n",
       "</style>\n",
       "<table border=\"1\" class=\"dataframe\">\n",
       "  <thead>\n",
       "    <tr style=\"text-align: right;\">\n",
       "      <th></th>\n",
       "      <th>id</th>\n",
       "      <th>tdate</th>\n",
       "      <th>tname</th>\n",
       "      <th>ttext</th>\n",
       "      <th>ttype</th>\n",
       "      <th>trep</th>\n",
       "      <th>tfav</th>\n",
       "      <th>tstcount</th>\n",
       "      <th>tfol</th>\n",
       "      <th>tfrien</th>\n",
       "      <th>listcount</th>\n",
       "      <th>unknown</th>\n",
       "    </tr>\n",
       "  </thead>\n",
       "  <tbody>\n",
       "    <tr>\n",
       "      <th>0</th>\n",
       "      <td>408906692374446080</td>\n",
       "      <td>1386325927</td>\n",
       "      <td>pleease_shut_up</td>\n",
       "      <td>@first_timee хоть я и школота, но поверь, у на...</td>\n",
       "      <td>1</td>\n",
       "      <td>0</td>\n",
       "      <td>0</td>\n",
       "      <td>0</td>\n",
       "      <td>7569</td>\n",
       "      <td>62</td>\n",
       "      <td>61</td>\n",
       "      <td>0</td>\n",
       "    </tr>\n",
       "    <tr>\n",
       "      <th>1</th>\n",
       "      <td>408906692693221377</td>\n",
       "      <td>1386325927</td>\n",
       "      <td>alinakirpicheva</td>\n",
       "      <td>Да, все-таки он немного похож на него. Но мой ...</td>\n",
       "      <td>1</td>\n",
       "      <td>0</td>\n",
       "      <td>0</td>\n",
       "      <td>0</td>\n",
       "      <td>11825</td>\n",
       "      <td>59</td>\n",
       "      <td>31</td>\n",
       "      <td>2</td>\n",
       "    </tr>\n",
       "    <tr>\n",
       "      <th>2</th>\n",
       "      <td>408906695083954177</td>\n",
       "      <td>1386325927</td>\n",
       "      <td>EvgeshaRe</td>\n",
       "      <td>RT @KatiaCheh: Ну ты идиотка) я испугалась за ...</td>\n",
       "      <td>1</td>\n",
       "      <td>0</td>\n",
       "      <td>1</td>\n",
       "      <td>0</td>\n",
       "      <td>1273</td>\n",
       "      <td>26</td>\n",
       "      <td>27</td>\n",
       "      <td>0</td>\n",
       "    </tr>\n",
       "    <tr>\n",
       "      <th>3</th>\n",
       "      <td>408906695356973056</td>\n",
       "      <td>1386325927</td>\n",
       "      <td>ikonnikova_21</td>\n",
       "      <td>RT @digger2912: \"Кто то в углу сидит и погибае...</td>\n",
       "      <td>1</td>\n",
       "      <td>0</td>\n",
       "      <td>1</td>\n",
       "      <td>0</td>\n",
       "      <td>1549</td>\n",
       "      <td>19</td>\n",
       "      <td>17</td>\n",
       "      <td>0</td>\n",
       "    </tr>\n",
       "    <tr>\n",
       "      <th>4</th>\n",
       "      <td>408906761416867842</td>\n",
       "      <td>1386325943</td>\n",
       "      <td>JumpyAlex</td>\n",
       "      <td>@irina_dyshkant Вот что значит страшилка :D\\nН...</td>\n",
       "      <td>1</td>\n",
       "      <td>0</td>\n",
       "      <td>0</td>\n",
       "      <td>0</td>\n",
       "      <td>597</td>\n",
       "      <td>16</td>\n",
       "      <td>23</td>\n",
       "      <td>1</td>\n",
       "    </tr>\n",
       "    <tr>\n",
       "      <th>...</th>\n",
       "      <td>...</td>\n",
       "      <td>...</td>\n",
       "      <td>...</td>\n",
       "      <td>...</td>\n",
       "      <td>...</td>\n",
       "      <td>...</td>\n",
       "      <td>...</td>\n",
       "      <td>...</td>\n",
       "      <td>...</td>\n",
       "      <td>...</td>\n",
       "      <td>...</td>\n",
       "      <td>...</td>\n",
       "    </tr>\n",
       "    <tr>\n",
       "      <th>9995</th>\n",
       "      <td>409766329734795264</td>\n",
       "      <td>1386530880</td>\n",
       "      <td>Anastasievnaa</td>\n",
       "      <td>Натааааш. у тебя было классное ДР =( и хрен у ...</td>\n",
       "      <td>-1</td>\n",
       "      <td>0</td>\n",
       "      <td>0</td>\n",
       "      <td>0</td>\n",
       "      <td>2002</td>\n",
       "      <td>30</td>\n",
       "      <td>21</td>\n",
       "      <td>0</td>\n",
       "    </tr>\n",
       "    <tr>\n",
       "      <th>9996</th>\n",
       "      <td>409766375364644864</td>\n",
       "      <td>1386530891</td>\n",
       "      <td>EmoKingSize</td>\n",
       "      <td>ой(( я совсем забыла восстановить старый аккау...</td>\n",
       "      <td>-1</td>\n",
       "      <td>0</td>\n",
       "      <td>0</td>\n",
       "      <td>0</td>\n",
       "      <td>5154</td>\n",
       "      <td>41</td>\n",
       "      <td>49</td>\n",
       "      <td>0</td>\n",
       "    </tr>\n",
       "    <tr>\n",
       "      <th>9997</th>\n",
       "      <td>409766474010886144</td>\n",
       "      <td>1386530915</td>\n",
       "      <td>yegorushki</td>\n",
       "      <td>Ну и где ночной твиттер? Все спят что ли? Так ...</td>\n",
       "      <td>-1</td>\n",
       "      <td>0</td>\n",
       "      <td>0</td>\n",
       "      <td>0</td>\n",
       "      <td>1456</td>\n",
       "      <td>48</td>\n",
       "      <td>56</td>\n",
       "      <td>0</td>\n",
       "    </tr>\n",
       "    <tr>\n",
       "      <th>9998</th>\n",
       "      <td>409766520009793536</td>\n",
       "      <td>1386530926</td>\n",
       "      <td>blond_4</td>\n",
       "      <td>Девочка моя,спасибо тебе за этот вечер .мне оч...</td>\n",
       "      <td>-1</td>\n",
       "      <td>0</td>\n",
       "      <td>0</td>\n",
       "      <td>0</td>\n",
       "      <td>99</td>\n",
       "      <td>14</td>\n",
       "      <td>14</td>\n",
       "      <td>0</td>\n",
       "    </tr>\n",
       "    <tr>\n",
       "      <th>9999</th>\n",
       "      <td>409766520425054208</td>\n",
       "      <td>1386530926</td>\n",
       "      <td>LSkorkina</td>\n",
       "      <td>@DianaPalicina долго объяснять:((( все плохо,вот</td>\n",
       "      <td>-1</td>\n",
       "      <td>0</td>\n",
       "      <td>0</td>\n",
       "      <td>0</td>\n",
       "      <td>142</td>\n",
       "      <td>15</td>\n",
       "      <td>24</td>\n",
       "      <td>0</td>\n",
       "    </tr>\n",
       "  </tbody>\n",
       "</table>\n",
       "<p>10000 rows × 12 columns</p>\n",
       "</div>"
      ],
      "text/plain": [
       "                      id       tdate            tname  \\\n",
       "0     408906692374446080  1386325927  pleease_shut_up   \n",
       "1     408906692693221377  1386325927  alinakirpicheva   \n",
       "2     408906695083954177  1386325927        EvgeshaRe   \n",
       "3     408906695356973056  1386325927    ikonnikova_21   \n",
       "4     408906761416867842  1386325943        JumpyAlex   \n",
       "...                  ...         ...              ...   \n",
       "9995  409766329734795264  1386530880    Anastasievnaa   \n",
       "9996  409766375364644864  1386530891      EmoKingSize   \n",
       "9997  409766474010886144  1386530915       yegorushki   \n",
       "9998  409766520009793536  1386530926          blond_4   \n",
       "9999  409766520425054208  1386530926        LSkorkina   \n",
       "\n",
       "                                                  ttext  ttype  trep  tfav  \\\n",
       "0     @first_timee хоть я и школота, но поверь, у на...      1     0     0   \n",
       "1     Да, все-таки он немного похож на него. Но мой ...      1     0     0   \n",
       "2     RT @KatiaCheh: Ну ты идиотка) я испугалась за ...      1     0     1   \n",
       "3     RT @digger2912: \"Кто то в углу сидит и погибае...      1     0     1   \n",
       "4     @irina_dyshkant Вот что значит страшилка :D\\nН...      1     0     0   \n",
       "...                                                 ...    ...   ...   ...   \n",
       "9995  Натааааш. у тебя было классное ДР =( и хрен у ...     -1     0     0   \n",
       "9996  ой(( я совсем забыла восстановить старый аккау...     -1     0     0   \n",
       "9997  Ну и где ночной твиттер? Все спят что ли? Так ...     -1     0     0   \n",
       "9998  Девочка моя,спасибо тебе за этот вечер .мне оч...     -1     0     0   \n",
       "9999   @DianaPalicina долго объяснять:((( все плохо,вот     -1     0     0   \n",
       "\n",
       "      tstcount   tfol  tfrien  listcount  unknown  \n",
       "0            0   7569      62         61        0  \n",
       "1            0  11825      59         31        2  \n",
       "2            0   1273      26         27        0  \n",
       "3            0   1549      19         17        0  \n",
       "4            0    597      16         23        1  \n",
       "...        ...    ...     ...        ...      ...  \n",
       "9995         0   2002      30         21        0  \n",
       "9996         0   5154      41         49        0  \n",
       "9997         0   1456      48         56        0  \n",
       "9998         0     99      14         14        0  \n",
       "9999         0    142      15         24        0  \n",
       "\n",
       "[10000 rows x 12 columns]"
      ]
     },
     "execution_count": 2,
     "metadata": {},
     "output_type": "execute_result"
    }
   ],
   "source": [
    "columns = [\n",
    "    \"id\", \"tdate\", \"tname\", \"ttext\", \"ttype\", \n",
    "    \"trep\", \"tfav\", \"tstcount\", \"tfol\", \n",
    "    \"tfrien\", \"listcount\", \"unknown\"\n",
    "]\n",
    "\n",
    "positive_df = pd.read_csv(\"positive.csv\", delimiter=\";\", names=columns, nrows=5000)\n",
    "negative_df = pd.read_csv(\"negative.csv\", delimiter=\";\", names=columns, nrows=5000)\n",
    "\n",
    "df = pd.concat([positive_df, negative_df]).reset_index(drop=True)\n",
    "\n",
    "print(f\"(строки, колонки): {df.shape}\")\n",
    "df"
   ]
  },
  {
   "cell_type": "markdown",
   "id": "a9139a3851f3fe0e",
   "metadata": {},
   "source": [
    "## Раздел 1: Статистический анализ текстового корпуса Рубцовой\n",
    "### 1.0 Создание колонки с длинной текстов"
   ]
  },
  {
   "cell_type": "code",
   "execution_count": 3,
   "id": "2de24c75f7e235e0",
   "metadata": {
    "ExecuteTime": {
     "end_time": "2023-09-29T08:17:35.383752Z",
     "start_time": "2023-09-29T08:17:34.854511Z"
    }
   },
   "outputs": [
    {
     "data": {
      "text/html": [
       "<div>\n",
       "<style scoped>\n",
       "    .dataframe tbody tr th:only-of-type {\n",
       "        vertical-align: middle;\n",
       "    }\n",
       "\n",
       "    .dataframe tbody tr th {\n",
       "        vertical-align: top;\n",
       "    }\n",
       "\n",
       "    .dataframe thead th {\n",
       "        text-align: right;\n",
       "    }\n",
       "</style>\n",
       "<table border=\"1\" class=\"dataframe\">\n",
       "  <thead>\n",
       "    <tr style=\"text-align: right;\">\n",
       "      <th></th>\n",
       "      <th>id</th>\n",
       "      <th>tdate</th>\n",
       "      <th>tname</th>\n",
       "      <th>ttext</th>\n",
       "      <th>ttype</th>\n",
       "      <th>trep</th>\n",
       "      <th>tfav</th>\n",
       "      <th>tstcount</th>\n",
       "      <th>tfol</th>\n",
       "      <th>tfrien</th>\n",
       "      <th>listcount</th>\n",
       "      <th>unknown</th>\n",
       "      <th>tlength</th>\n",
       "    </tr>\n",
       "  </thead>\n",
       "  <tbody>\n",
       "    <tr>\n",
       "      <th>0</th>\n",
       "      <td>408906692374446080</td>\n",
       "      <td>1386325927</td>\n",
       "      <td>pleease_shut_up</td>\n",
       "      <td>@first_timee хоть я и школота, но поверь, у на...</td>\n",
       "      <td>1</td>\n",
       "      <td>0</td>\n",
       "      <td>0</td>\n",
       "      <td>0</td>\n",
       "      <td>7569</td>\n",
       "      <td>62</td>\n",
       "      <td>61</td>\n",
       "      <td>0</td>\n",
       "      <td>22</td>\n",
       "    </tr>\n",
       "    <tr>\n",
       "      <th>1</th>\n",
       "      <td>408906692693221377</td>\n",
       "      <td>1386325927</td>\n",
       "      <td>alinakirpicheva</td>\n",
       "      <td>Да, все-таки он немного похож на него. Но мой ...</td>\n",
       "      <td>1</td>\n",
       "      <td>0</td>\n",
       "      <td>0</td>\n",
       "      <td>0</td>\n",
       "      <td>11825</td>\n",
       "      <td>59</td>\n",
       "      <td>31</td>\n",
       "      <td>2</td>\n",
       "      <td>17</td>\n",
       "    </tr>\n",
       "    <tr>\n",
       "      <th>2</th>\n",
       "      <td>408906695083954177</td>\n",
       "      <td>1386325927</td>\n",
       "      <td>EvgeshaRe</td>\n",
       "      <td>RT @KatiaCheh: Ну ты идиотка) я испугалась за ...</td>\n",
       "      <td>1</td>\n",
       "      <td>0</td>\n",
       "      <td>1</td>\n",
       "      <td>0</td>\n",
       "      <td>1273</td>\n",
       "      <td>26</td>\n",
       "      <td>27</td>\n",
       "      <td>0</td>\n",
       "      <td>15</td>\n",
       "    </tr>\n",
       "    <tr>\n",
       "      <th>3</th>\n",
       "      <td>408906695356973056</td>\n",
       "      <td>1386325927</td>\n",
       "      <td>ikonnikova_21</td>\n",
       "      <td>RT @digger2912: \"Кто то в углу сидит и погибае...</td>\n",
       "      <td>1</td>\n",
       "      <td>0</td>\n",
       "      <td>1</td>\n",
       "      <td>0</td>\n",
       "      <td>1549</td>\n",
       "      <td>19</td>\n",
       "      <td>17</td>\n",
       "      <td>0</td>\n",
       "      <td>35</td>\n",
       "    </tr>\n",
       "    <tr>\n",
       "      <th>4</th>\n",
       "      <td>408906761416867842</td>\n",
       "      <td>1386325943</td>\n",
       "      <td>JumpyAlex</td>\n",
       "      <td>@irina_dyshkant Вот что значит страшилка :D\\nН...</td>\n",
       "      <td>1</td>\n",
       "      <td>0</td>\n",
       "      <td>0</td>\n",
       "      <td>0</td>\n",
       "      <td>597</td>\n",
       "      <td>16</td>\n",
       "      <td>23</td>\n",
       "      <td>1</td>\n",
       "      <td>26</td>\n",
       "    </tr>\n",
       "  </tbody>\n",
       "</table>\n",
       "</div>"
      ],
      "text/plain": [
       "                   id       tdate            tname  \\\n",
       "0  408906692374446080  1386325927  pleease_shut_up   \n",
       "1  408906692693221377  1386325927  alinakirpicheva   \n",
       "2  408906695083954177  1386325927        EvgeshaRe   \n",
       "3  408906695356973056  1386325927    ikonnikova_21   \n",
       "4  408906761416867842  1386325943        JumpyAlex   \n",
       "\n",
       "                                               ttext  ttype  trep  tfav  \\\n",
       "0  @first_timee хоть я и школота, но поверь, у на...      1     0     0   \n",
       "1  Да, все-таки он немного похож на него. Но мой ...      1     0     0   \n",
       "2  RT @KatiaCheh: Ну ты идиотка) я испугалась за ...      1     0     1   \n",
       "3  RT @digger2912: \"Кто то в углу сидит и погибае...      1     0     1   \n",
       "4  @irina_dyshkant Вот что значит страшилка :D\\nН...      1     0     0   \n",
       "\n",
       "   tstcount   tfol  tfrien  listcount  unknown  tlength  \n",
       "0         0   7569      62         61        0       22  \n",
       "1         0  11825      59         31        2       17  \n",
       "2         0   1273      26         27        0       15  \n",
       "3         0   1549      19         17        0       35  \n",
       "4         0    597      16         23        1       26  "
      ]
     },
     "execution_count": 3,
     "metadata": {},
     "output_type": "execute_result"
    }
   ],
   "source": [
    "# Создаем колонку с длинной текстов с помощью токенизации каждого ряда\n",
    "df['tlength'] = df['ttext'].apply(lambda x: len(word_tokenize(str(x))))\n",
    "df.head()"
   ]
  },
  {
   "cell_type": "markdown",
   "id": "cccb423504cb9c03",
   "metadata": {},
   "source": [
    "### 1.1 Проверка на пропущенные значения"
   ]
  },
  {
   "cell_type": "code",
   "execution_count": 4,
   "id": "9b01cdf0faaf28d8",
   "metadata": {
    "ExecuteTime": {
     "end_time": "2023-09-29T08:17:35.384168Z",
     "start_time": "2023-09-29T08:17:35.373171Z"
    }
   },
   "outputs": [
    {
     "data": {
      "text/plain": [
       "id           0\n",
       "tdate        0\n",
       "tname        0\n",
       "ttext        0\n",
       "ttype        0\n",
       "trep         0\n",
       "tfav         0\n",
       "tstcount     0\n",
       "tfol         0\n",
       "tfrien       0\n",
       "listcount    0\n",
       "unknown      0\n",
       "tlength      0\n",
       "dtype: int64"
      ]
     },
     "execution_count": 4,
     "metadata": {},
     "output_type": "execute_result"
    }
   ],
   "source": [
    "# Суммируем все пропущенные значения в каждом ряду\n",
    "df.isnull().sum() "
   ]
  },
  {
   "cell_type": "markdown",
   "id": "ee6186483ef55dd",
   "metadata": {},
   "source": [
    "### 1.2 Вычисление средней, медианы и моды"
   ]
  },
  {
   "cell_type": "code",
   "execution_count": 5,
   "id": "c342a2ec849ba463",
   "metadata": {
    "ExecuteTime": {
     "end_time": "2023-09-29T08:17:35.384980Z",
     "start_time": "2023-09-29T08:17:35.380410Z"
    }
   },
   "outputs": [
    {
     "name": "stdout",
     "output_type": "stream",
     "text": [
      "Средняя длина текстов: 17.6985\n",
      "Медиана длины текстов: 16.0\n",
      "Мода длины текстов: 13\n"
     ]
    }
   ],
   "source": [
    "# Выводим среднее, медиану и моду длин текстов с помощью библеотеки statistics\n",
    "print(f'Средняя длина текстов: {statistics.mean(df[\"tlength\"])}\\n'\n",
    "      f'Медиана длины текстов: {statistics.median(df[\"tlength\"])}\\n'\n",
    "      f'Мода длины текстов: {statistics.mode(df[\"tlength\"])}')"
   ]
  },
  {
   "cell_type": "markdown",
   "id": "a5d481495791e6fe",
   "metadata": {},
   "source": [
    "## Раздел 2: Визуальный анализ текстового корпуса Рубцовой\n",
    "### 2.0 Построение линейной диаграммы"
   ]
  },
  {
   "cell_type": "code",
   "execution_count": 6,
   "id": "2a2d6bffc7c906ee",
   "metadata": {
    "ExecuteTime": {
     "end_time": "2023-09-29T08:17:35.607785Z",
     "start_time": "2023-09-29T08:17:35.383224Z"
    }
   },
   "outputs": [
    {
     "data": {
      "image/png": "[encoded data removed]",
      "text/plain": [
       "<Figure size 640x480 with 1 Axes>"
      ]
     },
     "metadata": {},
     "output_type": "display_data"
    }
   ],
   "source": [
    "# Строим диаграмму рассеивания с помощью библиотеки matplotlib\n",
    "x = df['tfol'].head(500)\n",
    "y = df['tlength'].head(500)\n",
    "plt.scatter(x, y)\n",
    "\n",
    "plt.xlabel('Количество подписчиков пользователя')\n",
    "plt.ylabel('Длина сообщения пользователя')\n",
    "plt.title('Диаграмма рассеивания')\n",
    "plt.xlim(0, 200)\n",
    "plt.ylim(0, 50)\n",
    "\n",
    "plt.show()"
   ]
  },
  {
   "cell_type": "markdown",
   "id": "6afeaf2d362e82da",
   "metadata": {},
   "source": [
    "### 2.1 Построение столбчатой диаграммы"
   ]
  },
  {
   "cell_type": "code",
   "execution_count": 7,
   "id": "cccbd60f61f44fa4",
   "metadata": {
    "ExecuteTime": {
     "end_time": "2023-09-29T08:17:38.481773Z",
     "start_time": "2023-09-29T08:17:35.609654Z"
    }
   },
   "outputs": [
    {
     "data": {
      "image/png": "[encoded data removed]",
      "text/plain": [
       "<Figure size 1000x800 with 1 Axes>"
      ]
     },
     "metadata": {},
     "output_type": "display_data"
    }
   ],
   "source": [
    "# Строим столбчатую диаграмму с помощью библиотеки matplotlib\n",
    "plt.figure(figsize=(10, 8))\n",
    "x = df['tname'].head(50)\n",
    "y = df['tfrien'].head(50)\n",
    "plt.bar(x, y)\n",
    "plt.title(\"Столбчатая диаграмма\")\n",
    "plt.ylabel('Имя пользователя')\n",
    "plt.ylabel('Количество друзей пользователя')\n",
    "plt.xticks(range(len(x)), x, rotation = 80)\n",
    "plt.ylim(0, 100)\n",
    "\n",
    "plt.show()"
   ]
  },
  {
   "cell_type": "markdown",
   "id": "80b5a92aa98e17fa",
   "metadata": {},
   "source": [
    "### 2.2 Построение тепловой карты\n",
    "1. data: DataFrame или массив. Это набор данных, который будет использоваться для создания тепловой карты.\n",
    "2. vmin, vmax: Минимальное и максимальное значения для шкалы цветовой карты. \n",
    "3. cmap: Цветовая карта: какие цвета будут использоваться для отображения данных на тепловой карте.\n",
    "4. center: Центральное значение, вокруг которого будут варьироваться цвета.\n",
    "5. robust: Если True, цветовая карта будет более устойчивой к выбросам.\n",
    "6. annot: Если True, числовые значения будут аннотированы в ячейках тепловой карты.\n",
    "7. fmt: Формат чисел для аннотаций (например, '.2g' - два знака после запятой).\n",
    "8. annot_kws: Дополнительные параметры для настройки аннотаций, такие как размер шрифта, цвет и др.\n",
    "9. linewidths: Ширина линий между ячейками.\n",
    "10. linecolor: Цвет линий между ячейками.\n",
    "11. cbar: Если True, будет отображена цветовая шкала.\n",
    "12. cbar_kws: Дополнительные параметры для настройки цветовой шкалы, такие как расположение, размер и др.\n",
    "13. cbar_ax: Ось для цветовой шкалы, если она создана вручную.\n",
    "14. square: Если True, гарантирует, что ячейки тепловой карты будут квадратными.\n",
    "15. xticklabels, yticklabels: Управляют отображением подписей осей x и y. 'auto' автоматически подстраивается под данные.\n",
    "16. mask: Матрица маскирования, которая может быть использована для скрытия некоторых ячеек на тепловой карте.\n",
    "17. ax: Ось, на которой будет построена тепловая карта. \n",
    "18. kwargs: Другие параметры, которые могут быть переданы для настройки внешнего вида тепловой карты, такие как размер графика, цвет фона и др.\n",
    "\n"
   ]
  },
  {
   "cell_type": "code",
   "execution_count": 8,
   "id": "7044ac25b01c76af",
   "metadata": {
    "ExecuteTime": {
     "end_time": "2023-09-29T08:17:38.632286Z",
     "start_time": "2023-09-29T08:17:38.485452Z"
    }
   },
   "outputs": [
    {
     "data": {
      "image/png": "[encoded data removed]",
      "text/plain": [
       "<Figure size 1500x1500 with 2 Axes>"
      ]
     },
     "metadata": {},
     "output_type": "display_data"
    }
   ],
   "source": [
    "# Строим тепловую карту с помощью библиотеки seaborn\n",
    "plt.figure(figsize=(15, 15))\n",
    "sns.heatmap(df[[ \"tfrien\", 'tfol']].head(20), annot=True, cmap=\"Spectral\", cbar=True, fmt='.2f', vmax=1000, square=True, linecolor=\"black\", linewidth=1)\n",
    "plt.title(\"Тепловая карта\")\n",
    "plt.xlabel('Подписчики и друзья пользователя')\n",
    "\n",
    "plt.show()"
   ]
  },
  {
   "cell_type": "markdown",
   "id": "97d48fde14d6742b",
   "metadata": {},
   "source": [
    "### 2.3 Построение гистограммы"
   ]
  },
  {
   "cell_type": "code",
   "execution_count": 9,
   "id": "28f7ee45087ddf71",
   "metadata": {
    "ExecuteTime": {
     "end_time": "2023-09-29T08:17:38.713697Z",
     "start_time": "2023-09-29T08:17:38.632815Z"
    }
   },
   "outputs": [
    {
     "data": {
      "image/png": "[encoded data removed]",
      "text/plain": [
       "<Figure size 1000x700 with 1 Axes>"
      ]
     },
     "metadata": {},
     "output_type": "display_data"
    }
   ],
   "source": [
    "# Строим гистограмму с помощью библиотеки seaborn\n",
    "sns.set_style('whitegrid')\n",
    "plt.figure(figsize = (10,7))\n",
    "sns.histplot(x=df['tfol'], kde=True, bins=30)\n",
    "plt.title('Гистограмма')\n",
    "plt.xlabel('Количество подписчиков пользователя')\n",
    "plt.xlim(0, 300000)\n",
    "plt.ylim(0, 1000)\n",
    "\n",
    "plt.show()"
   ]
  },
  {
   "cell_type": "markdown",
   "id": "5a8fb176be1d1440",
   "metadata": {},
   "source": [
    "### 2.4 Построение круговой диаграммы"
   ]
  },
  {
   "cell_type": "code",
   "execution_count": 10,
   "id": "a51b332d2865f926",
   "metadata": {
    "ExecuteTime": {
     "end_time": "2023-09-29T08:17:38.877572Z",
     "start_time": "2023-09-29T08:17:38.713364Z"
    }
   },
   "outputs": [
    {
     "data": {
      "application/vnd.plotly.v1+json": {
       "config": {
        "plotlyServerURL": "https://plot.ly"
       },
       "data": [
        {
         "domain": {
          "x": [
           0,
           1
          ],
          "y": [
           0,
           1
          ]
         },
         "hovertemplate": "tlength=%{label}<br>value=%{value}<extra></extra>",
         "labels": [
          13,
          12,
          14,
          15,
          16,
          11,
          17,
          18,
          19,
          10,
          20,
          21,
          22,
          23,
          24,
          9,
          26,
          25,
          27,
          28,
          29,
          30,
          8,
          31,
          32,
          33,
          7,
          34,
          35,
          38,
          36,
          37,
          6,
          39,
          40,
          55,
          45,
          69,
          44,
          60,
          41,
          42,
          128,
          78,
          52,
          43,
          5,
          76,
          65,
          57,
          47,
          98,
          53,
          46,
          85
         ],
         "legendgroup": "",
         "name": "",
         "pull": [
          0.1,
          0,
          0,
          0
         ],
         "showlegend": true,
         "textinfo": "percent+label",
         "type": "pie",
         "values": [
          744,
          726,
          720,
          714,
          644,
          626,
          568,
          490,
          481,
          447,
          436,
          391,
          336,
          328,
          319,
          294,
          255,
          244,
          222,
          201,
          162,
          139,
          125,
          85,
          68,
          50,
          49,
          37,
          22,
          11,
          11,
          10,
          7,
          4,
          4,
          3,
          3,
          2,
          2,
          2,
          2,
          2,
          2,
          1,
          1,
          1,
          1,
          1,
          1,
          1,
          1,
          1,
          1,
          1,
          1
         ]
        }
       ],
       "layout": {
        "legend": {
         "tracegroupgap": 0
        },
        "margin": {
         "t": 60
        },
        "template": {
         "data": {
          "bar": [
           {
            "error_x": {
             "color": "#2a3f5f"
            },
            "error_y": {
             "color": "#2a3f5f"
            },
            "marker": {
             "line": {
              "color": "#E5ECF6",
              "width": 0.5
             },
             "pattern": {
              "fillmode": "overlay",
              "size": 10,
              "solidity": 0.2
             }
            },
            "type": "bar"
           }
          ],
          "barpolar": [
           {
            "marker": {
             "line": {
              "color": "#E5ECF6",
              "width": 0.5
             },
             "pattern": {
              "fillmode": "overlay",
              "size": 10,
              "solidity": 0.2
             }
            },
            "type": "barpolar"
           }
          ],
          "carpet": [
           {
            "aaxis": {
             "endlinecolor": "#2a3f5f",
             "gridcolor": "white",
             "linecolor": "white",
             "minorgridcolor": "white",
             "startlinecolor": "#2a3f5f"
            },
            "baxis": {
             "endlinecolor": "#2a3f5f",
             "gridcolor": "white",
             "linecolor": "white",
             "minorgridcolor": "white",
             "startlinecolor": "#2a3f5f"
            },
            "type": "carpet"
           }
          ],
          "choropleth": [
           {
            "colorbar": {
             "outlinewidth": 0,
             "ticks": ""
            },
            "type": "choropleth"
           }
          ],
          "contour": [
           {
            "colorbar": {
             "outlinewidth": 0,
             "ticks": ""
            },
            "colorscale": [
             [
              0,
              "#0d0887"
             ],
             [
              0.1111111111111111,
              "#46039f"
             ],
             [
              0.2222222222222222,
              "#7201a8"
             ],
             [
              0.3333333333333333,
              "#9c179e"
             ],
             [
              0.4444444444444444,
              "#bd3786"
             ],
             [
              0.5555555555555556,
              "#d8576b"
             ],
             [
              0.6666666666666666,
              "#ed7953"
             ],
             [
              0.7777777777777778,
              "#fb9f3a"
             ],
             [
              0.8888888888888888,
              "#fdca26"
             ],
             [
              1,
              "#f0f921"
             ]
            ],
            "type": "contour"
           }
          ],
          "contourcarpet": [
           {
            "colorbar": {
             "outlinewidth": 0,
             "ticks": ""
            },
            "type": "contourcarpet"
           }
          ],
          "heatmap": [
           {
            "colorbar": {
             "outlinewidth": 0,
             "ticks": ""
            },
            "colorscale": [
             [
              0,
              "#0d0887"
             ],
             [
              0.1111111111111111,
              "#46039f"
             ],
             [
              0.2222222222222222,
              "#7201a8"
             ],
             [
              0.3333333333333333,
              "#9c179e"
             ],
             [
              0.4444444444444444,
              "#bd3786"
             ],
             [
              0.5555555555555556,
              "#d8576b"
             ],
             [
              0.6666666666666666,
              "#ed7953"
             ],
             [
              0.7777777777777778,
              "#fb9f3a"
             ],
             [
              0.8888888888888888,
              "#fdca26"
             ],
             [
              1,
              "#f0f921"
             ]
            ],
            "type": "heatmap"
           }
          ],
          "heatmapgl": [
           {
            "colorbar": {
             "outlinewidth": 0,
             "ticks": ""
            },
            "colorscale": [
             [
              0,
              "#0d0887"
             ],
             [
              0.1111111111111111,
              "#46039f"
             ],
             [
              0.2222222222222222,
              "#7201a8"
             ],
             [
              0.3333333333333333,
              "#9c179e"
             ],
             [
              0.4444444444444444,
              "#bd3786"
             ],
             [
              0.5555555555555556,
              "#d8576b"
             ],
             [
              0.6666666666666666,
              "#ed7953"
             ],
             [
              0.7777777777777778,
              "#fb9f3a"
             ],
             [
              0.8888888888888888,
              "#fdca26"
             ],
             [
              1,
              "#f0f921"
             ]
            ],
            "type": "heatmapgl"
           }
          ],
          "histogram": [
           {
            "marker": {
             "pattern": {
              "fillmode": "overlay",
              "size": 10,
              "solidity": 0.2
             }
            },
            "type": "histogram"
           }
          ],
          "histogram2d": [
           {
            "colorbar": {
             "outlinewidth": 0,
             "ticks": ""
            },
            "colorscale": [
             [
              0,
              "#0d0887"
             ],
             [
              0.1111111111111111,
              "#46039f"
             ],
             [
              0.2222222222222222,
              "#7201a8"
             ],
             [
              0.3333333333333333,
              "#9c179e"
             ],
             [
              0.4444444444444444,
              "#bd3786"
             ],
             [
              0.5555555555555556,
              "#d8576b"
             ],
             [
              0.6666666666666666,
              "#ed7953"
             ],
             [
              0.7777777777777778,
              "#fb9f3a"
             ],
             [
              0.8888888888888888,
              "#fdca26"
             ],
             [
              1,
              "#f0f921"
             ]
            ],
            "type": "histogram2d"
           }
          ],
          "histogram2dcontour": [
           {
            "colorbar": {
             "outlinewidth": 0,
             "ticks": ""
            },
            "colorscale": [
             [
              0,
              "#0d0887"
             ],
             [
              0.1111111111111111,
              "#46039f"
             ],
             [
              0.2222222222222222,
              "#7201a8"
             ],
             [
              0.3333333333333333,
              "#9c179e"
             ],
             [
              0.4444444444444444,
              "#bd3786"
             ],
             [
              0.5555555555555556,
              "#d8576b"
             ],
             [
              0.6666666666666666,
              "#ed7953"
             ],
             [
              0.7777777777777778,
              "#fb9f3a"
             ],
             [
              0.8888888888888888,
              "#fdca26"
             ],
             [
              1,
              "#f0f921"
             ]
            ],
            "type": "histogram2dcontour"
           }
          ],
          "mesh3d": [
           {
            "colorbar": {
             "outlinewidth": 0,
             "ticks": ""
            },
            "type": "mesh3d"
           }
          ],
          "parcoords": [
           {
            "line": {
             "colorbar": {
              "outlinewidth": 0,
              "ticks": ""
             }
            },
            "type": "parcoords"
           }
          ],
          "pie": [
           {
            "automargin": true,
            "type": "pie"
           }
          ],
          "scatter": [
           {
            "fillpattern": {
             "fillmode": "overlay",
             "size": 10,
             "solidity": 0.2
            },
            "type": "scatter"
           }
          ],
          "scatter3d": [
           {
            "line": {
             "colorbar": {
              "outlinewidth": 0,
              "ticks": ""
             }
            },
            "marker": {
             "colorbar": {
              "outlinewidth": 0,
              "ticks": ""
             }
            },
            "type": "scatter3d"
           }
          ],
          "scattercarpet": [
           {
            "marker": {
             "colorbar": {
              "outlinewidth": 0,
              "ticks": ""
             }
            },
            "type": "scattercarpet"
           }
          ],
          "scattergeo": [
           {
            "marker": {
             "colorbar": {
              "outlinewidth": 0,
              "ticks": ""
             }
            },
            "type": "scattergeo"
           }
          ],
          "scattergl": [
           {
            "marker": {
             "colorbar": {
              "outlinewidth": 0,
              "ticks": ""
             }
            },
            "type": "scattergl"
           }
          ],
          "scattermapbox": [
           {
            "marker": {
             "colorbar": {
              "outlinewidth": 0,
              "ticks": ""
             }
            },
            "type": "scattermapbox"
           }
          ],
          "scatterpolar": [
           {
            "marker": {
             "colorbar": {
              "outlinewidth": 0,
              "ticks": ""
             }
            },
            "type": "scatterpolar"
           }
          ],
          "scatterpolargl": [
           {
            "marker": {
             "colorbar": {
              "outlinewidth": 0,
              "ticks": ""
             }
            },
            "type": "scatterpolargl"
           }
          ],
          "scatterternary": [
           {
            "marker": {
             "colorbar": {
              "outlinewidth": 0,
              "ticks": ""
             }
            },
            "type": "scatterternary"
           }
          ],
          "surface": [
           {
            "colorbar": {
             "outlinewidth": 0,
             "ticks": ""
            },
            "colorscale": [
             [
              0,
              "#0d0887"
             ],
             [
              0.1111111111111111,
              "#46039f"
             ],
             [
              0.2222222222222222,
              "#7201a8"
             ],
             [
              0.3333333333333333,
              "#9c179e"
             ],
             [
              0.4444444444444444,
              "#bd3786"
             ],
             [
              0.5555555555555556,
              "#d8576b"
             ],
             [
              0.6666666666666666,
              "#ed7953"
             ],
             [
              0.7777777777777778,
              "#fb9f3a"
             ],
             [
              0.8888888888888888,
              "#fdca26"
             ],
             [
              1,
              "#f0f921"
             ]
            ],
            "type": "surface"
           }
          ],
          "table": [
           {
            "cells": {
             "fill": {
              "color": "#EBF0F8"
             },
             "line": {
              "color": "white"
             }
            },
            "header": {
             "fill": {
              "color": "#C8D4E3"
             },
             "line": {
              "color": "white"
             }
            },
            "type": "table"
           }
          ]
         },
         "layout": {
          "annotationdefaults": {
           "arrowcolor": "#2a3f5f",
           "arrowhead": 0,
           "arrowwidth": 1
          },
          "autotypenumbers": "strict",
          "coloraxis": {
           "colorbar": {
            "outlinewidth": 0,
            "ticks": ""
           }
          },
          "colorscale": {
           "diverging": [
            [
             0,
             "#8e0152"
            ],
            [
             0.1,
             "#c51b7d"
            ],
            [
             0.2,
             "#de77ae"
            ],
            [
             0.3,
             "#f1b6da"
            ],
            [
             0.4,
             "#fde0ef"
            ],
            [
             0.5,
             "#f7f7f7"
            ],
            [
             0.6,
             "#e6f5d0"
            ],
            [
             0.7,
             "#b8e186"
            ],
            [
             0.8,
             "#7fbc41"
            ],
            [
             0.9,
             "#4d9221"
            ],
            [
             1,
             "#276419"
            ]
           ],
           "sequential": [
            [
             0,
             "#0d0887"
            ],
            [
             0.1111111111111111,
             "#46039f"
            ],
            [
             0.2222222222222222,
             "#7201a8"
            ],
            [
             0.3333333333333333,
             "#9c179e"
            ],
            [
             0.4444444444444444,
             "#bd3786"
            ],
            [
             0.5555555555555556,
             "#d8576b"
            ],
            [
             0.6666666666666666,
             "#ed7953"
            ],
            [
             0.7777777777777778,
             "#fb9f3a"
            ],
            [
             0.8888888888888888,
             "#fdca26"
            ],
            [
             1,
             "#f0f921"
            ]
           ],
           "sequentialminus": [
            [
             0,
             "#0d0887"
            ],
            [
             0.1111111111111111,
             "#46039f"
            ],
            [
             0.2222222222222222,
             "#7201a8"
            ],
            [
             0.3333333333333333,
             "#9c179e"
            ],
            [
             0.4444444444444444,
             "#bd3786"
            ],
            [
             0.5555555555555556,
             "#d8576b"
            ],
            [
             0.6666666666666666,
             "#ed7953"
            ],
            [
             0.7777777777777778,
             "#fb9f3a"
            ],
            [
             0.8888888888888888,
             "#fdca26"
            ],
            [
             1,
             "#f0f921"
            ]
           ]
          },
          "colorway": [
           "#636efa",
           "#EF553B",
           "#00cc96",
           "#ab63fa",
           "#FFA15A",
           "#19d3f3",
           "#FF6692",
           "#B6E880",
           "#FF97FF",
           "#FECB52"
          ],
          "font": {
           "color": "#2a3f5f"
          },
          "geo": {
           "bgcolor": "white",
           "lakecolor": "white",
           "landcolor": "#E5ECF6",
           "showlakes": true,
           "showland": true,
           "subunitcolor": "white"
          },
          "hoverlabel": {
           "align": "left"
          },
          "hovermode": "closest",
          "mapbox": {
           "style": "light"
          },
          "paper_bgcolor": "white",
          "plot_bgcolor": "#E5ECF6",
          "polar": {
           "angularaxis": {
            "gridcolor": "white",
            "linecolor": "white",
            "ticks": ""
           },
           "bgcolor": "#E5ECF6",
           "radialaxis": {
            "gridcolor": "white",
            "linecolor": "white",
            "ticks": ""
           }
          },
          "scene": {
           "xaxis": {
            "backgroundcolor": "#E5ECF6",
            "gridcolor": "white",
            "gridwidth": 2,
            "linecolor": "white",
            "showbackground": true,
            "ticks": "",
            "zerolinecolor": "white"
           },
           "yaxis": {
            "backgroundcolor": "#E5ECF6",
            "gridcolor": "white",
            "gridwidth": 2,
            "linecolor": "white",
            "showbackground": true,
            "ticks": "",
            "zerolinecolor": "white"
           },
           "zaxis": {
            "backgroundcolor": "#E5ECF6",
            "gridcolor": "white",
            "gridwidth": 2,
            "linecolor": "white",
            "showbackground": true,
            "ticks": "",
            "zerolinecolor": "white"
           }
          },
          "shapedefaults": {
           "line": {
            "color": "#2a3f5f"
           }
          },
          "ternary": {
           "aaxis": {
            "gridcolor": "white",
            "linecolor": "white",
            "ticks": ""
           },
           "baxis": {
            "gridcolor": "white",
            "linecolor": "white",
            "ticks": ""
           },
           "bgcolor": "#E5ECF6",
           "caxis": {
            "gridcolor": "white",
            "linecolor": "white",
            "ticks": ""
           }
          },
          "title": {
           "x": 0.05
          },
          "xaxis": {
           "automargin": true,
           "gridcolor": "white",
           "linecolor": "white",
           "ticks": "",
           "title": {
            "standoff": 15
           },
           "zerolinecolor": "white",
           "zerolinewidth": 2
          },
          "yaxis": {
           "automargin": true,
           "gridcolor": "white",
           "linecolor": "white",
           "ticks": "",
           "title": {
            "standoff": 15
           },
           "zerolinecolor": "white",
           "zerolinewidth": 2
          }
         }
        },
        "title": {
         "text": "Круговая диаграмма"
        }
       }
      }
     },
     "metadata": {},
     "output_type": "display_data"
    }
   ],
   "source": [
    "# Строим круговую диаграмму с помощью библиотеки plotly\n",
    "data_counts = df['tlength'].value_counts()\n",
    "fig = px.pie(data_frame=data_counts, names=data_counts.index, values=data_counts.values)\n",
    "fig.update_traces(textinfo='percent+label', pull=[0.1, 0, 0, 0])  \n",
    "\n",
    "fig.update_layout(title='Круговая диаграмма')\n",
    "\n",
    "fig.show()"
   ]
  },
  {
   "cell_type": "markdown",
   "id": "ad3521b9eca7561f",
   "metadata": {},
   "source": [
    "## Раздел 3: Предобработка текстов\n",
    "### 3.0 Приведение текста к нижнему регистру"
   ]
  },
  {
   "cell_type": "code",
   "execution_count": 11,
   "id": "abebdcf00e7f5ec5",
   "metadata": {
    "ExecuteTime": {
     "end_time": "2023-09-29T08:17:38.880251Z",
     "start_time": "2023-09-29T08:17:38.835919Z"
    }
   },
   "outputs": [
    {
     "data": {
      "text/html": [
       "<div>\n",
       "<style scoped>\n",
       "    .dataframe tbody tr th:only-of-type {\n",
       "        vertical-align: middle;\n",
       "    }\n",
       "\n",
       "    .dataframe tbody tr th {\n",
       "        vertical-align: top;\n",
       "    }\n",
       "\n",
       "    .dataframe thead th {\n",
       "        text-align: right;\n",
       "    }\n",
       "</style>\n",
       "<table border=\"1\" class=\"dataframe\">\n",
       "  <thead>\n",
       "    <tr style=\"text-align: right;\">\n",
       "      <th></th>\n",
       "      <th>id</th>\n",
       "      <th>tdate</th>\n",
       "      <th>tname</th>\n",
       "      <th>ttext</th>\n",
       "      <th>ttype</th>\n",
       "      <th>trep</th>\n",
       "      <th>tfav</th>\n",
       "      <th>tstcount</th>\n",
       "      <th>tfol</th>\n",
       "      <th>tfrien</th>\n",
       "      <th>listcount</th>\n",
       "      <th>unknown</th>\n",
       "      <th>tlength</th>\n",
       "    </tr>\n",
       "  </thead>\n",
       "  <tbody>\n",
       "    <tr>\n",
       "      <th>0</th>\n",
       "      <td>408906692374446080</td>\n",
       "      <td>1386325927</td>\n",
       "      <td>pleease_shut_up</td>\n",
       "      <td>@first_timee хоть я и школота, но поверь, у на...</td>\n",
       "      <td>1</td>\n",
       "      <td>0</td>\n",
       "      <td>0</td>\n",
       "      <td>0</td>\n",
       "      <td>7569</td>\n",
       "      <td>62</td>\n",
       "      <td>61</td>\n",
       "      <td>0</td>\n",
       "      <td>22</td>\n",
       "    </tr>\n",
       "    <tr>\n",
       "      <th>1</th>\n",
       "      <td>408906692693221377</td>\n",
       "      <td>1386325927</td>\n",
       "      <td>alinakirpicheva</td>\n",
       "      <td>да, все-таки он немного похож на него. но мой ...</td>\n",
       "      <td>1</td>\n",
       "      <td>0</td>\n",
       "      <td>0</td>\n",
       "      <td>0</td>\n",
       "      <td>11825</td>\n",
       "      <td>59</td>\n",
       "      <td>31</td>\n",
       "      <td>2</td>\n",
       "      <td>17</td>\n",
       "    </tr>\n",
       "    <tr>\n",
       "      <th>2</th>\n",
       "      <td>408906695083954177</td>\n",
       "      <td>1386325927</td>\n",
       "      <td>EvgeshaRe</td>\n",
       "      <td>rt @katiacheh: ну ты идиотка) я испугалась за ...</td>\n",
       "      <td>1</td>\n",
       "      <td>0</td>\n",
       "      <td>1</td>\n",
       "      <td>0</td>\n",
       "      <td>1273</td>\n",
       "      <td>26</td>\n",
       "      <td>27</td>\n",
       "      <td>0</td>\n",
       "      <td>15</td>\n",
       "    </tr>\n",
       "    <tr>\n",
       "      <th>3</th>\n",
       "      <td>408906695356973056</td>\n",
       "      <td>1386325927</td>\n",
       "      <td>ikonnikova_21</td>\n",
       "      <td>rt @digger2912: \"кто то в углу сидит и погибае...</td>\n",
       "      <td>1</td>\n",
       "      <td>0</td>\n",
       "      <td>1</td>\n",
       "      <td>0</td>\n",
       "      <td>1549</td>\n",
       "      <td>19</td>\n",
       "      <td>17</td>\n",
       "      <td>0</td>\n",
       "      <td>35</td>\n",
       "    </tr>\n",
       "    <tr>\n",
       "      <th>4</th>\n",
       "      <td>408906761416867842</td>\n",
       "      <td>1386325943</td>\n",
       "      <td>JumpyAlex</td>\n",
       "      <td>@irina_dyshkant вот что значит страшилка :d\\nн...</td>\n",
       "      <td>1</td>\n",
       "      <td>0</td>\n",
       "      <td>0</td>\n",
       "      <td>0</td>\n",
       "      <td>597</td>\n",
       "      <td>16</td>\n",
       "      <td>23</td>\n",
       "      <td>1</td>\n",
       "      <td>26</td>\n",
       "    </tr>\n",
       "  </tbody>\n",
       "</table>\n",
       "</div>"
      ],
      "text/plain": [
       "                   id       tdate            tname  \\\n",
       "0  408906692374446080  1386325927  pleease_shut_up   \n",
       "1  408906692693221377  1386325927  alinakirpicheva   \n",
       "2  408906695083954177  1386325927        EvgeshaRe   \n",
       "3  408906695356973056  1386325927    ikonnikova_21   \n",
       "4  408906761416867842  1386325943        JumpyAlex   \n",
       "\n",
       "                                               ttext  ttype  trep  tfav  \\\n",
       "0  @first_timee хоть я и школота, но поверь, у на...      1     0     0   \n",
       "1  да, все-таки он немного похож на него. но мой ...      1     0     0   \n",
       "2  rt @katiacheh: ну ты идиотка) я испугалась за ...      1     0     1   \n",
       "3  rt @digger2912: \"кто то в углу сидит и погибае...      1     0     1   \n",
       "4  @irina_dyshkant вот что значит страшилка :d\\nн...      1     0     0   \n",
       "\n",
       "   tstcount   tfol  tfrien  listcount  unknown  tlength  \n",
       "0         0   7569      62         61        0       22  \n",
       "1         0  11825      59         31        2       17  \n",
       "2         0   1273      26         27        0       15  \n",
       "3         0   1549      19         17        0       35  \n",
       "4         0    597      16         23        1       26  "
      ]
     },
     "execution_count": 11,
     "metadata": {},
     "output_type": "execute_result"
    }
   ],
   "source": [
    "# Приводим все тексты к нижнему регистру  \n",
    "df['ttext'] = df['ttext'].str.lower()\n",
    "df.head()"
   ]
  },
  {
   "cell_type": "markdown",
   "id": "9a0c2d1737ceda0d",
   "metadata": {},
   "source": [
    "### 3.1 Удаление пунктуации, стоп слов и токенизация"
   ]
  },
  {
   "cell_type": "code",
   "execution_count": 12,
   "id": "e016ca6f9c76b31d",
   "metadata": {
    "ExecuteTime": {
     "end_time": "2023-09-29T08:17:39.423069Z",
     "start_time": "2023-09-29T08:17:38.836070Z"
    }
   },
   "outputs": [
    {
     "data": {
      "text/html": [
       "<div>\n",
       "<style scoped>\n",
       "    .dataframe tbody tr th:only-of-type {\n",
       "        vertical-align: middle;\n",
       "    }\n",
       "\n",
       "    .dataframe tbody tr th {\n",
       "        vertical-align: top;\n",
       "    }\n",
       "\n",
       "    .dataframe thead th {\n",
       "        text-align: right;\n",
       "    }\n",
       "</style>\n",
       "<table border=\"1\" class=\"dataframe\">\n",
       "  <thead>\n",
       "    <tr style=\"text-align: right;\">\n",
       "      <th></th>\n",
       "      <th>id</th>\n",
       "      <th>tdate</th>\n",
       "      <th>tname</th>\n",
       "      <th>ttext</th>\n",
       "      <th>ttype</th>\n",
       "      <th>trep</th>\n",
       "      <th>tfav</th>\n",
       "      <th>tstcount</th>\n",
       "      <th>tfol</th>\n",
       "      <th>tfrien</th>\n",
       "      <th>listcount</th>\n",
       "      <th>unknown</th>\n",
       "      <th>tlength</th>\n",
       "    </tr>\n",
       "  </thead>\n",
       "  <tbody>\n",
       "    <tr>\n",
       "      <th>0</th>\n",
       "      <td>408906692374446080</td>\n",
       "      <td>1386325927</td>\n",
       "      <td>pleease_shut_up</td>\n",
       "      <td>[школота, поверь, самое, общество, профилирующ...</td>\n",
       "      <td>1</td>\n",
       "      <td>0</td>\n",
       "      <td>0</td>\n",
       "      <td>0</td>\n",
       "      <td>7569</td>\n",
       "      <td>62</td>\n",
       "      <td>61</td>\n",
       "      <td>0</td>\n",
       "      <td>22</td>\n",
       "    </tr>\n",
       "    <tr>\n",
       "      <th>1</th>\n",
       "      <td>408906692693221377</td>\n",
       "      <td>1386325927</td>\n",
       "      <td>alinakirpicheva</td>\n",
       "      <td>[все-таки, немного, похож, мальчик, равно]</td>\n",
       "      <td>1</td>\n",
       "      <td>0</td>\n",
       "      <td>0</td>\n",
       "      <td>0</td>\n",
       "      <td>11825</td>\n",
       "      <td>59</td>\n",
       "      <td>31</td>\n",
       "      <td>2</td>\n",
       "      <td>17</td>\n",
       "    </tr>\n",
       "    <tr>\n",
       "      <th>2</th>\n",
       "      <td>408906695083954177</td>\n",
       "      <td>1386325927</td>\n",
       "      <td>EvgeshaRe</td>\n",
       "      <td>[идиотка, испугалась]</td>\n",
       "      <td>1</td>\n",
       "      <td>0</td>\n",
       "      <td>1</td>\n",
       "      <td>0</td>\n",
       "      <td>1273</td>\n",
       "      <td>26</td>\n",
       "      <td>27</td>\n",
       "      <td>0</td>\n",
       "      <td>15</td>\n",
       "    </tr>\n",
       "    <tr>\n",
       "      <th>3</th>\n",
       "      <td>408906695356973056</td>\n",
       "      <td>1386325927</td>\n",
       "      <td>ikonnikova_21</td>\n",
       "      <td>[углу, сидит, погибает, голода, ещё, порции, в...</td>\n",
       "      <td>1</td>\n",
       "      <td>0</td>\n",
       "      <td>1</td>\n",
       "      <td>0</td>\n",
       "      <td>1549</td>\n",
       "      <td>19</td>\n",
       "      <td>17</td>\n",
       "      <td>0</td>\n",
       "      <td>35</td>\n",
       "    </tr>\n",
       "    <tr>\n",
       "      <th>4</th>\n",
       "      <td>408906761416867842</td>\n",
       "      <td>1386325943</td>\n",
       "      <td>JumpyAlex</td>\n",
       "      <td>[значит, страшилка, блин, посмотрев, части, со...</td>\n",
       "      <td>1</td>\n",
       "      <td>0</td>\n",
       "      <td>0</td>\n",
       "      <td>0</td>\n",
       "      <td>597</td>\n",
       "      <td>16</td>\n",
       "      <td>23</td>\n",
       "      <td>1</td>\n",
       "      <td>26</td>\n",
       "    </tr>\n",
       "  </tbody>\n",
       "</table>\n",
       "</div>"
      ],
      "text/plain": [
       "                   id       tdate            tname  \\\n",
       "0  408906692374446080  1386325927  pleease_shut_up   \n",
       "1  408906692693221377  1386325927  alinakirpicheva   \n",
       "2  408906695083954177  1386325927        EvgeshaRe   \n",
       "3  408906695356973056  1386325927    ikonnikova_21   \n",
       "4  408906761416867842  1386325943        JumpyAlex   \n",
       "\n",
       "                                               ttext  ttype  trep  tfav  \\\n",
       "0  [школота, поверь, самое, общество, профилирующ...      1     0     0   \n",
       "1         [все-таки, немного, похож, мальчик, равно]      1     0     0   \n",
       "2                              [идиотка, испугалась]      1     0     1   \n",
       "3  [углу, сидит, погибает, голода, ещё, порции, в...      1     0     1   \n",
       "4  [значит, страшилка, блин, посмотрев, части, со...      1     0     0   \n",
       "\n",
       "   tstcount   tfol  tfrien  listcount  unknown  tlength  \n",
       "0         0   7569      62         61        0       22  \n",
       "1         0  11825      59         31        2       17  \n",
       "2         0   1273      26         27        0       15  \n",
       "3         0   1549      19         17        0       35  \n",
       "4         0    597      16         23        1       26  "
      ]
     },
     "execution_count": 12,
     "metadata": {},
     "output_type": "execute_result"
    }
   ],
   "source": [
    "# Удаляем символы, английские слова и стоп-слова и осуществляем токенизацию текстов\n",
    "stopwords= nltk.corpus.stopwords.words('russian')\n",
    "df['ttext'] = df['ttext'].apply(lambda x: [word for word in word_tokenize(str(x)) if re.match(r'[а-я]', word) and word not in stopwords])\n",
    "df.head()"
   ]
  },
  {
   "cell_type": "markdown",
   "id": "b4aad1f26a2dab79",
   "metadata": {},
   "source": [
    "### 3.2 Лемматизация"
   ]
  },
  {
   "cell_type": "code",
   "execution_count": 13,
   "id": "b64631c841eba2d3",
   "metadata": {
    "ExecuteTime": {
     "end_time": "2023-09-29T08:17:43.073700Z",
     "start_time": "2023-09-29T08:17:39.431908Z"
    }
   },
   "outputs": [
    {
     "data": {
      "text/html": [
       "<div>\n",
       "<style scoped>\n",
       "    .dataframe tbody tr th:only-of-type {\n",
       "        vertical-align: middle;\n",
       "    }\n",
       "\n",
       "    .dataframe tbody tr th {\n",
       "        vertical-align: top;\n",
       "    }\n",
       "\n",
       "    .dataframe thead th {\n",
       "        text-align: right;\n",
       "    }\n",
       "</style>\n",
       "<table border=\"1\" class=\"dataframe\">\n",
       "  <thead>\n",
       "    <tr style=\"text-align: right;\">\n",
       "      <th></th>\n",
       "      <th>id</th>\n",
       "      <th>tdate</th>\n",
       "      <th>tname</th>\n",
       "      <th>ttext</th>\n",
       "      <th>ttype</th>\n",
       "      <th>trep</th>\n",
       "      <th>tfav</th>\n",
       "      <th>tstcount</th>\n",
       "      <th>tfol</th>\n",
       "      <th>tfrien</th>\n",
       "      <th>listcount</th>\n",
       "      <th>unknown</th>\n",
       "      <th>tlength</th>\n",
       "    </tr>\n",
       "  </thead>\n",
       "  <tbody>\n",
       "    <tr>\n",
       "      <th>0</th>\n",
       "      <td>408906692374446080</td>\n",
       "      <td>1386325927</td>\n",
       "      <td>pleease_shut_up</td>\n",
       "      <td>[школоть, поверять, самый, общество, профилиру...</td>\n",
       "      <td>1</td>\n",
       "      <td>0</td>\n",
       "      <td>0</td>\n",
       "      <td>0</td>\n",
       "      <td>7569</td>\n",
       "      <td>62</td>\n",
       "      <td>61</td>\n",
       "      <td>0</td>\n",
       "      <td>22</td>\n",
       "    </tr>\n",
       "    <tr>\n",
       "      <th>1</th>\n",
       "      <td>408906692693221377</td>\n",
       "      <td>1386325927</td>\n",
       "      <td>alinakirpicheva</td>\n",
       "      <td>[все-таки, немного, похожий, мальчик, равно]</td>\n",
       "      <td>1</td>\n",
       "      <td>0</td>\n",
       "      <td>0</td>\n",
       "      <td>0</td>\n",
       "      <td>11825</td>\n",
       "      <td>59</td>\n",
       "      <td>31</td>\n",
       "      <td>2</td>\n",
       "      <td>17</td>\n",
       "    </tr>\n",
       "    <tr>\n",
       "      <th>2</th>\n",
       "      <td>408906695083954177</td>\n",
       "      <td>1386325927</td>\n",
       "      <td>EvgeshaRe</td>\n",
       "      <td>[идиотка, испугаться]</td>\n",
       "      <td>1</td>\n",
       "      <td>0</td>\n",
       "      <td>1</td>\n",
       "      <td>0</td>\n",
       "      <td>1273</td>\n",
       "      <td>26</td>\n",
       "      <td>27</td>\n",
       "      <td>0</td>\n",
       "      <td>15</td>\n",
       "    </tr>\n",
       "    <tr>\n",
       "      <th>3</th>\n",
       "      <td>408906695356973056</td>\n",
       "      <td>1386325927</td>\n",
       "      <td>ikonnikova_21</td>\n",
       "      <td>[угол, сидеть, погибать, голод, еще, порция, в...</td>\n",
       "      <td>1</td>\n",
       "      <td>0</td>\n",
       "      <td>1</td>\n",
       "      <td>0</td>\n",
       "      <td>1549</td>\n",
       "      <td>19</td>\n",
       "      <td>17</td>\n",
       "      <td>0</td>\n",
       "      <td>35</td>\n",
       "    </tr>\n",
       "    <tr>\n",
       "      <th>4</th>\n",
       "      <td>408906761416867842</td>\n",
       "      <td>1386325943</td>\n",
       "      <td>JumpyAlex</td>\n",
       "      <td>[значит, страшилка, блин, посмотреть, часть, с...</td>\n",
       "      <td>1</td>\n",
       "      <td>0</td>\n",
       "      <td>0</td>\n",
       "      <td>0</td>\n",
       "      <td>597</td>\n",
       "      <td>16</td>\n",
       "      <td>23</td>\n",
       "      <td>1</td>\n",
       "      <td>26</td>\n",
       "    </tr>\n",
       "  </tbody>\n",
       "</table>\n",
       "</div>"
      ],
      "text/plain": [
       "                   id       tdate            tname  \\\n",
       "0  408906692374446080  1386325927  pleease_shut_up   \n",
       "1  408906692693221377  1386325927  alinakirpicheva   \n",
       "2  408906695083954177  1386325927        EvgeshaRe   \n",
       "3  408906695356973056  1386325927    ikonnikova_21   \n",
       "4  408906761416867842  1386325943        JumpyAlex   \n",
       "\n",
       "                                               ttext  ttype  trep  tfav  \\\n",
       "0  [школоть, поверять, самый, общество, профилиру...      1     0     0   \n",
       "1       [все-таки, немного, похожий, мальчик, равно]      1     0     0   \n",
       "2                              [идиотка, испугаться]      1     0     1   \n",
       "3  [угол, сидеть, погибать, голод, еще, порция, в...      1     0     1   \n",
       "4  [значит, страшилка, блин, посмотреть, часть, с...      1     0     0   \n",
       "\n",
       "   tstcount   tfol  tfrien  listcount  unknown  tlength  \n",
       "0         0   7569      62         61        0       22  \n",
       "1         0  11825      59         31        2       17  \n",
       "2         0   1273      26         27        0       15  \n",
       "3         0   1549      19         17        0       35  \n",
       "4         0    597      16         23        1       26  "
      ]
     },
     "execution_count": 13,
     "metadata": {},
     "output_type": "execute_result"
    }
   ],
   "source": [
    "# Лемматизируем тексты\n",
    "morphy = Mystem()\n",
    "df['ttext'] = df['ttext'].apply(lambda x: [morphy.lemmatize(word)[0] for word in x])\n",
    "df.head()"
   ]
  },
  {
   "cell_type": "markdown",
   "id": "4ea60bb516d0a48c",
   "metadata": {},
   "source": [
    "## Раздел 4: Получение векторов признаков\n",
    "### 4.0 Получение вектора признаков с помощью BoW"
   ]
  },
  {
   "cell_type": "code",
   "execution_count": 14,
   "id": "304181fa6ad3da50",
   "metadata": {
    "ExecuteTime": {
     "end_time": "2023-09-29T08:17:43.334315Z",
     "start_time": "2023-09-29T08:17:43.074503Z"
    }
   },
   "outputs": [
    {
     "data": {
      "text/html": [
       "<div>\n",
       "<style scoped>\n",
       "    .dataframe tbody tr th:only-of-type {\n",
       "        vertical-align: middle;\n",
       "    }\n",
       "\n",
       "    .dataframe tbody tr th {\n",
       "        vertical-align: top;\n",
       "    }\n",
       "\n",
       "    .dataframe thead th {\n",
       "        text-align: right;\n",
       "    }\n",
       "</style>\n",
       "<table border=\"1\" class=\"dataframe\">\n",
       "  <thead>\n",
       "    <tr style=\"text-align: right;\">\n",
       "      <th></th>\n",
       "      <th>аа</th>\n",
       "      <th>ааа</th>\n",
       "      <th>аааа</th>\n",
       "      <th>ааааа</th>\n",
       "      <th>аааааа</th>\n",
       "      <th>ааааааа</th>\n",
       "      <th>аааааааа</th>\n",
       "      <th>ааааааааа</th>\n",
       "      <th>ааааааааааа</th>\n",
       "      <th>ааааааааааааа</th>\n",
       "      <th>...</th>\n",
       "      <th>ясноооо</th>\n",
       "      <th>ясный</th>\n",
       "      <th>ятибяобажай</th>\n",
       "      <th>яцутко</th>\n",
       "      <th>яшка</th>\n",
       "      <th>ящик</th>\n",
       "      <th>яя</th>\n",
       "      <th>яяя</th>\n",
       "      <th>яяясно</th>\n",
       "      <th>яяяя</th>\n",
       "    </tr>\n",
       "  </thead>\n",
       "  <tbody>\n",
       "    <tr>\n",
       "      <th>0</th>\n",
       "      <td>0</td>\n",
       "      <td>0</td>\n",
       "      <td>0</td>\n",
       "      <td>0</td>\n",
       "      <td>0</td>\n",
       "      <td>0</td>\n",
       "      <td>0</td>\n",
       "      <td>0</td>\n",
       "      <td>0</td>\n",
       "      <td>0</td>\n",
       "      <td>...</td>\n",
       "      <td>0</td>\n",
       "      <td>0</td>\n",
       "      <td>0</td>\n",
       "      <td>0</td>\n",
       "      <td>0</td>\n",
       "      <td>0</td>\n",
       "      <td>0</td>\n",
       "      <td>0</td>\n",
       "      <td>0</td>\n",
       "      <td>0</td>\n",
       "    </tr>\n",
       "    <tr>\n",
       "      <th>1</th>\n",
       "      <td>0</td>\n",
       "      <td>0</td>\n",
       "      <td>0</td>\n",
       "      <td>0</td>\n",
       "      <td>0</td>\n",
       "      <td>0</td>\n",
       "      <td>0</td>\n",
       "      <td>0</td>\n",
       "      <td>0</td>\n",
       "      <td>0</td>\n",
       "      <td>...</td>\n",
       "      <td>0</td>\n",
       "      <td>0</td>\n",
       "      <td>0</td>\n",
       "      <td>0</td>\n",
       "      <td>0</td>\n",
       "      <td>0</td>\n",
       "      <td>0</td>\n",
       "      <td>0</td>\n",
       "      <td>0</td>\n",
       "      <td>0</td>\n",
       "    </tr>\n",
       "    <tr>\n",
       "      <th>2</th>\n",
       "      <td>0</td>\n",
       "      <td>0</td>\n",
       "      <td>0</td>\n",
       "      <td>0</td>\n",
       "      <td>0</td>\n",
       "      <td>0</td>\n",
       "      <td>0</td>\n",
       "      <td>0</td>\n",
       "      <td>0</td>\n",
       "      <td>0</td>\n",
       "      <td>...</td>\n",
       "      <td>0</td>\n",
       "      <td>0</td>\n",
       "      <td>0</td>\n",
       "      <td>0</td>\n",
       "      <td>0</td>\n",
       "      <td>0</td>\n",
       "      <td>0</td>\n",
       "      <td>0</td>\n",
       "      <td>0</td>\n",
       "      <td>0</td>\n",
       "    </tr>\n",
       "    <tr>\n",
       "      <th>3</th>\n",
       "      <td>0</td>\n",
       "      <td>0</td>\n",
       "      <td>0</td>\n",
       "      <td>0</td>\n",
       "      <td>0</td>\n",
       "      <td>0</td>\n",
       "      <td>0</td>\n",
       "      <td>0</td>\n",
       "      <td>0</td>\n",
       "      <td>0</td>\n",
       "      <td>...</td>\n",
       "      <td>0</td>\n",
       "      <td>0</td>\n",
       "      <td>0</td>\n",
       "      <td>0</td>\n",
       "      <td>0</td>\n",
       "      <td>0</td>\n",
       "      <td>0</td>\n",
       "      <td>0</td>\n",
       "      <td>0</td>\n",
       "      <td>0</td>\n",
       "    </tr>\n",
       "    <tr>\n",
       "      <th>4</th>\n",
       "      <td>0</td>\n",
       "      <td>0</td>\n",
       "      <td>0</td>\n",
       "      <td>0</td>\n",
       "      <td>0</td>\n",
       "      <td>0</td>\n",
       "      <td>0</td>\n",
       "      <td>0</td>\n",
       "      <td>0</td>\n",
       "      <td>0</td>\n",
       "      <td>...</td>\n",
       "      <td>0</td>\n",
       "      <td>0</td>\n",
       "      <td>0</td>\n",
       "      <td>0</td>\n",
       "      <td>0</td>\n",
       "      <td>0</td>\n",
       "      <td>0</td>\n",
       "      <td>0</td>\n",
       "      <td>0</td>\n",
       "      <td>0</td>\n",
       "    </tr>\n",
       "  </tbody>\n",
       "</table>\n",
       "<p>5 rows × 14215 columns</p>\n",
       "</div>"
      ],
      "text/plain": [
       "   аа  ааа  аааа  ааааа  аааааа  ааааааа  аааааааа  ааааааааа  ааааааааааа  \\\n",
       "0   0    0     0      0       0        0         0          0            0   \n",
       "1   0    0     0      0       0        0         0          0            0   \n",
       "2   0    0     0      0       0        0         0          0            0   \n",
       "3   0    0     0      0       0        0         0          0            0   \n",
       "4   0    0     0      0       0        0         0          0            0   \n",
       "\n",
       "   ааааааааааааа  ...  ясноооо  ясный  ятибяобажай  яцутко  яшка  ящик  яя  \\\n",
       "0              0  ...        0      0            0       0     0     0   0   \n",
       "1              0  ...        0      0            0       0     0     0   0   \n",
       "2              0  ...        0      0            0       0     0     0   0   \n",
       "3              0  ...        0      0            0       0     0     0   0   \n",
       "4              0  ...        0      0            0       0     0     0   0   \n",
       "\n",
       "   яяя  яяясно  яяяя  \n",
       "0    0       0     0  \n",
       "1    0       0     0  \n",
       "2    0       0     0  \n",
       "3    0       0     0  \n",
       "4    0       0     0  \n",
       "\n",
       "[5 rows x 14215 columns]"
      ]
     },
     "execution_count": 14,
     "metadata": {},
     "output_type": "execute_result"
    }
   ],
   "source": [
    "# Получаем вектора признаков с помощью BoW\n",
    "vectorizer = CountVectorizer()\n",
    "bow = vectorizer.fit_transform(df['ttext'].apply(lambda x: ' '.join(x))).toarray()\n",
    "# Создаем DataFrame с полученными векторами\n",
    "bow_df = pd.DataFrame(bow, columns=vectorizer.get_feature_names_out())\n",
    "bow_df.head()"
   ]
  },
  {
   "cell_type": "markdown",
   "id": "99f1c94d277f1388",
   "metadata": {},
   "source": [
    "### 4.1 Получение вектора признаков с помощью TF-IDF"
   ]
  },
  {
   "cell_type": "code",
   "execution_count": 15,
   "id": "a6d6f3c90681f4e9",
   "metadata": {
    "ExecuteTime": {
     "end_time": "2023-09-29T08:17:43.351796Z",
     "start_time": "2023-09-29T08:17:43.196565Z"
    }
   },
   "outputs": [
    {
     "data": {
      "text/html": [
       "<div>\n",
       "<style scoped>\n",
       "    .dataframe tbody tr th:only-of-type {\n",
       "        vertical-align: middle;\n",
       "    }\n",
       "\n",
       "    .dataframe tbody tr th {\n",
       "        vertical-align: top;\n",
       "    }\n",
       "\n",
       "    .dataframe thead th {\n",
       "        text-align: right;\n",
       "    }\n",
       "</style>\n",
       "<table border=\"1\" class=\"dataframe\">\n",
       "  <thead>\n",
       "    <tr style=\"text-align: right;\">\n",
       "      <th></th>\n",
       "      <th>аа</th>\n",
       "      <th>ааа</th>\n",
       "      <th>аааа</th>\n",
       "      <th>ааааа</th>\n",
       "      <th>аааааа</th>\n",
       "      <th>ааааааа</th>\n",
       "      <th>аааааааа</th>\n",
       "      <th>ааааааааа</th>\n",
       "      <th>ааааааааааа</th>\n",
       "      <th>ааааааааааааа</th>\n",
       "      <th>...</th>\n",
       "      <th>ясноооо</th>\n",
       "      <th>ясный</th>\n",
       "      <th>ятибяобажай</th>\n",
       "      <th>яцутко</th>\n",
       "      <th>яшка</th>\n",
       "      <th>ящик</th>\n",
       "      <th>яя</th>\n",
       "      <th>яяя</th>\n",
       "      <th>яяясно</th>\n",
       "      <th>яяяя</th>\n",
       "    </tr>\n",
       "  </thead>\n",
       "  <tbody>\n",
       "    <tr>\n",
       "      <th>0</th>\n",
       "      <td>0.0</td>\n",
       "      <td>0.0</td>\n",
       "      <td>0.0</td>\n",
       "      <td>0.0</td>\n",
       "      <td>0.0</td>\n",
       "      <td>0.0</td>\n",
       "      <td>0.0</td>\n",
       "      <td>0.0</td>\n",
       "      <td>0.0</td>\n",
       "      <td>0.0</td>\n",
       "      <td>...</td>\n",
       "      <td>0.0</td>\n",
       "      <td>0.0</td>\n",
       "      <td>0.0</td>\n",
       "      <td>0.0</td>\n",
       "      <td>0.0</td>\n",
       "      <td>0.0</td>\n",
       "      <td>0.0</td>\n",
       "      <td>0.0</td>\n",
       "      <td>0.0</td>\n",
       "      <td>0.0</td>\n",
       "    </tr>\n",
       "    <tr>\n",
       "      <th>1</th>\n",
       "      <td>0.0</td>\n",
       "      <td>0.0</td>\n",
       "      <td>0.0</td>\n",
       "      <td>0.0</td>\n",
       "      <td>0.0</td>\n",
       "      <td>0.0</td>\n",
       "      <td>0.0</td>\n",
       "      <td>0.0</td>\n",
       "      <td>0.0</td>\n",
       "      <td>0.0</td>\n",
       "      <td>...</td>\n",
       "      <td>0.0</td>\n",
       "      <td>0.0</td>\n",
       "      <td>0.0</td>\n",
       "      <td>0.0</td>\n",
       "      <td>0.0</td>\n",
       "      <td>0.0</td>\n",
       "      <td>0.0</td>\n",
       "      <td>0.0</td>\n",
       "      <td>0.0</td>\n",
       "      <td>0.0</td>\n",
       "    </tr>\n",
       "    <tr>\n",
       "      <th>2</th>\n",
       "      <td>0.0</td>\n",
       "      <td>0.0</td>\n",
       "      <td>0.0</td>\n",
       "      <td>0.0</td>\n",
       "      <td>0.0</td>\n",
       "      <td>0.0</td>\n",
       "      <td>0.0</td>\n",
       "      <td>0.0</td>\n",
       "      <td>0.0</td>\n",
       "      <td>0.0</td>\n",
       "      <td>...</td>\n",
       "      <td>0.0</td>\n",
       "      <td>0.0</td>\n",
       "      <td>0.0</td>\n",
       "      <td>0.0</td>\n",
       "      <td>0.0</td>\n",
       "      <td>0.0</td>\n",
       "      <td>0.0</td>\n",
       "      <td>0.0</td>\n",
       "      <td>0.0</td>\n",
       "      <td>0.0</td>\n",
       "    </tr>\n",
       "    <tr>\n",
       "      <th>3</th>\n",
       "      <td>0.0</td>\n",
       "      <td>0.0</td>\n",
       "      <td>0.0</td>\n",
       "      <td>0.0</td>\n",
       "      <td>0.0</td>\n",
       "      <td>0.0</td>\n",
       "      <td>0.0</td>\n",
       "      <td>0.0</td>\n",
       "      <td>0.0</td>\n",
       "      <td>0.0</td>\n",
       "      <td>...</td>\n",
       "      <td>0.0</td>\n",
       "      <td>0.0</td>\n",
       "      <td>0.0</td>\n",
       "      <td>0.0</td>\n",
       "      <td>0.0</td>\n",
       "      <td>0.0</td>\n",
       "      <td>0.0</td>\n",
       "      <td>0.0</td>\n",
       "      <td>0.0</td>\n",
       "      <td>0.0</td>\n",
       "    </tr>\n",
       "    <tr>\n",
       "      <th>4</th>\n",
       "      <td>0.0</td>\n",
       "      <td>0.0</td>\n",
       "      <td>0.0</td>\n",
       "      <td>0.0</td>\n",
       "      <td>0.0</td>\n",
       "      <td>0.0</td>\n",
       "      <td>0.0</td>\n",
       "      <td>0.0</td>\n",
       "      <td>0.0</td>\n",
       "      <td>0.0</td>\n",
       "      <td>...</td>\n",
       "      <td>0.0</td>\n",
       "      <td>0.0</td>\n",
       "      <td>0.0</td>\n",
       "      <td>0.0</td>\n",
       "      <td>0.0</td>\n",
       "      <td>0.0</td>\n",
       "      <td>0.0</td>\n",
       "      <td>0.0</td>\n",
       "      <td>0.0</td>\n",
       "      <td>0.0</td>\n",
       "    </tr>\n",
       "  </tbody>\n",
       "</table>\n",
       "<p>5 rows × 14215 columns</p>\n",
       "</div>"
      ],
      "text/plain": [
       "    аа  ааа  аааа  ааааа  аааааа  ааааааа  аааааааа  ааааааааа  ааааааааааа  \\\n",
       "0  0.0  0.0   0.0    0.0     0.0      0.0       0.0        0.0          0.0   \n",
       "1  0.0  0.0   0.0    0.0     0.0      0.0       0.0        0.0          0.0   \n",
       "2  0.0  0.0   0.0    0.0     0.0      0.0       0.0        0.0          0.0   \n",
       "3  0.0  0.0   0.0    0.0     0.0      0.0       0.0        0.0          0.0   \n",
       "4  0.0  0.0   0.0    0.0     0.0      0.0       0.0        0.0          0.0   \n",
       "\n",
       "   ааааааааааааа  ...  ясноооо  ясный  ятибяобажай  яцутко  яшка  ящик   яя  \\\n",
       "0            0.0  ...      0.0    0.0          0.0     0.0   0.0   0.0  0.0   \n",
       "1            0.0  ...      0.0    0.0          0.0     0.0   0.0   0.0  0.0   \n",
       "2            0.0  ...      0.0    0.0          0.0     0.0   0.0   0.0  0.0   \n",
       "3            0.0  ...      0.0    0.0          0.0     0.0   0.0   0.0  0.0   \n",
       "4            0.0  ...      0.0    0.0          0.0     0.0   0.0   0.0  0.0   \n",
       "\n",
       "   яяя  яяясно  яяяя  \n",
       "0  0.0     0.0   0.0  \n",
       "1  0.0     0.0   0.0  \n",
       "2  0.0     0.0   0.0  \n",
       "3  0.0     0.0   0.0  \n",
       "4  0.0     0.0   0.0  \n",
       "\n",
       "[5 rows x 14215 columns]"
      ]
     },
     "execution_count": 15,
     "metadata": {},
     "output_type": "execute_result"
    }
   ],
   "source": [
    "# Получаем вектора признаков с помощью TF-IDF\n",
    "vectorizer = TfidfVectorizer()\n",
    "tfidf = vectorizer.fit_transform(df['ttext'].apply(lambda x: ' '.join(x))).toarray()\n",
    "# Создаем DataFrame с полученными векторами\n",
    "tfidf_df = pd.DataFrame(tfidf, columns=vectorizer.get_feature_names_out())\n",
    "tfidf_df.head()"
   ]
  },
  {
   "cell_type": "markdown",
   "id": "eba7a7ddf8d20756",
   "metadata": {},
   "source": [
    "### 4.2 Сохранение полученных векторов в файле"
   ]
  },
  {
   "cell_type": "code",
   "execution_count": 16,
   "id": "6cdeba32f6feab66",
   "metadata": {
    "ExecuteTime": {
     "end_time": "2023-09-29T08:17:43.352019Z",
     "start_time": "2023-09-29T08:17:43.262640Z"
    }
   },
   "outputs": [],
   "source": [
    "# Сохраняем полученные вектора в csv файлы\n",
    "bow_df.to_csv('bow.csv', index=False)\n",
    "tfidf_df.to_csv('tfidf.csv', index=False)"
   ]
  }
 ],
 "metadata": {
  "kernelspec": {
   "display_name": "labs",
   "language": "python",
   "name": "labs"
  },
  "language_info": {
   "codemirror_mode": {
    "name": "ipython",
    "version": 3
   },
   "file_extension": ".py",
   "mimetype": "text/x-python",
   "name": "python",
   "nbconvert_exporter": "python",
   "pygments_lexer": "ipython3",
   "version": "3.9.18"
  }
 },
 "nbformat": 4,
 "nbformat_minor": 5
}
